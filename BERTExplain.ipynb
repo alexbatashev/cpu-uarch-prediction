{
 "cells": [
  {
   "cell_type": "code",
   "execution_count": 1,
   "id": "initial_id",
   "metadata": {
    "collapsed": true,
    "ExecuteTime": {
     "end_time": "2023-11-19T09:18:00.791764600Z",
     "start_time": "2023-11-19T09:17:59.175417530Z"
    }
   },
   "outputs": [],
   "source": [
    "import numpy as np\n",
    "import pandas as pd\n",
    "import seaborn as sns\n",
    "import matplotlib.pyplot as plt\n",
    "\n",
    "import torch\n",
    "import torch.nn as nn\n",
    "\n",
    "from captum.attr import visualization as viz\n",
    "from captum.attr import LayerConductance, LayerIntegratedGradients"
   ]
  },
  {
   "cell_type": "code",
   "execution_count": 2,
   "outputs": [],
   "source": [
    "device = torch.device(\"cuda:0\" if torch.cuda.is_available() else \"cpu\")"
   ],
   "metadata": {
    "collapsed": false,
    "ExecuteTime": {
     "end_time": "2023-11-19T09:18:02.106279881Z",
     "start_time": "2023-11-19T09:18:02.100627533Z"
    }
   },
   "id": "c9fb5e7a0e58a613"
  },
  {
   "cell_type": "code",
   "execution_count": 3,
   "outputs": [],
   "source": [
    "from llvm_ml.torch import BasicBlockDataset\n",
    "banned_ids = []\n",
    "dataset = BasicBlockDataset(\"./data/ryzen3600_v16.cbuf\", masked=True, banned_ids=banned_ids, prefilter=True)"
   ],
   "metadata": {
    "collapsed": false,
    "ExecuteTime": {
     "end_time": "2023-11-19T09:18:59.570878471Z",
     "start_time": "2023-11-19T09:18:03.633380045Z"
    }
   },
   "id": "3d6c271f6041ca55"
  },
  {
   "cell_type": "code",
   "execution_count": 4,
   "outputs": [],
   "source": [
    "model = torch.load(\"./data/bert_ryzen3600.pt\")"
   ],
   "metadata": {
    "collapsed": false,
    "ExecuteTime": {
     "end_time": "2023-11-19T09:23:38.175273361Z",
     "start_time": "2023-11-19T09:23:37.446992496Z"
    }
   },
   "id": "d41131695d3f9005"
  },
  {
   "cell_type": "code",
   "execution_count": 5,
   "outputs": [
    {
     "name": "stdout",
     "output_type": "stream",
     "text": [
      "MCBERT(\n",
      "  (embedding): MCEmbedding(\n",
      "    (embedding): Embedding(21002, 256)\n",
      "    (pos_encoding): PositionalEncoding(256)\n",
      "    (norm): LayerNorm(256, affine=True, mode=graph)\n",
      "  )\n",
      "  (encoders): ModuleList(\n",
      "    (0-3): 4 x MCGraphEncoder(\n",
      "      (norm1): LayerNorm(256, affine=True, mode=graph)\n",
      "      (attention): MCGraphAttention(\n",
      "        (key): Linear(in_features=256, out_features=256, bias=False)\n",
      "        (query): Linear(in_features=256, out_features=256, bias=False)\n",
      "        (value): Linear(in_features=256, out_features=256, bias=False)\n",
      "        (proj): Linear(in_features=256, out_features=256, bias=False)\n",
      "      )\n",
      "      (norm2): LayerNorm(256, affine=True, mode=graph)\n",
      "      (feed_forward): Sequential(\n",
      "        (0): Linear(in_features=256, out_features=512, bias=True)\n",
      "        (1): GELU(approximate='none')\n",
      "        (2): Linear(in_features=512, out_features=256, bias=True)\n",
      "        (3): Dropout(p=0.1, inplace=False)\n",
      "      )\n",
      "    )\n",
      "  )\n",
      "  (token_prediction): Linear(in_features=256, out_features=21002, bias=True)\n",
      ")\n"
     ]
    }
   ],
   "source": [
    "print(model)"
   ],
   "metadata": {
    "collapsed": false,
    "ExecuteTime": {
     "end_time": "2023-11-19T09:23:39.419282530Z",
     "start_time": "2023-11-19T09:23:39.415224662Z"
    }
   },
   "id": "99f39fd50950acf9"
  },
  {
   "cell_type": "code",
   "execution_count": 6,
   "outputs": [
    {
     "data": {
      "text/plain": "MCBERT(\n  (embedding): MCEmbedding(\n    (embedding): Embedding(21002, 256)\n    (pos_encoding): PositionalEncoding(256)\n    (norm): LayerNorm(256, affine=True, mode=graph)\n  )\n  (encoders): ModuleList(\n    (0-3): 4 x MCGraphEncoder(\n      (norm1): LayerNorm(256, affine=True, mode=graph)\n      (attention): MCGraphAttention(\n        (key): Linear(in_features=256, out_features=256, bias=False)\n        (query): Linear(in_features=256, out_features=256, bias=False)\n        (value): Linear(in_features=256, out_features=256, bias=False)\n        (proj): Linear(in_features=256, out_features=256, bias=False)\n      )\n      (norm2): LayerNorm(256, affine=True, mode=graph)\n      (feed_forward): Sequential(\n        (0): Linear(in_features=256, out_features=512, bias=True)\n        (1): GELU(approximate='none')\n        (2): Linear(in_features=512, out_features=256, bias=True)\n        (3): Dropout(p=0.1, inplace=False)\n      )\n    )\n  )\n  (token_prediction): Linear(in_features=256, out_features=21002, bias=True)\n)"
     },
     "execution_count": 6,
     "metadata": {},
     "output_type": "execute_result"
    }
   ],
   "source": [
    "model.eval()"
   ],
   "metadata": {
    "collapsed": false,
    "ExecuteTime": {
     "end_time": "2023-11-19T09:23:40.506302892Z",
     "start_time": "2023-11-19T09:23:40.499223140Z"
    }
   },
   "id": "4d8d9b10e093e3c8"
  },
  {
   "cell_type": "code",
   "execution_count": 13,
   "outputs": [
    {
     "data": {
      "text/plain": "tensor([[[ 1.9133e+01,  4.9177e-04,  2.5814e-04,  ...,  3.3463e-04,\n          -1.8042e-05,  1.0846e-04],\n         [ 6.7160e+00, -1.4771e-02, -1.4949e-02,  ..., -1.4980e-02,\n          -1.4896e-02, -1.5038e-02],\n         [ 6.5532e+00, -1.6451e-02, -1.6412e-02,  ..., -1.6821e-02,\n          -1.6500e-02, -1.6619e-02],\n         ...,\n         [ 8.6527e+00, -2.3661e-02, -2.3680e-02,  ..., -2.4098e-02,\n          -2.3864e-02, -2.3917e-02],\n         [ 5.3790e+00, -6.6291e-03, -6.6509e-03,  ..., -6.9841e-03,\n          -6.7611e-03, -7.0343e-03],\n         [ 7.2830e+00, -1.1569e-02, -1.1838e-02,  ..., -1.1805e-02,\n          -1.1808e-02, -1.2009e-02]]], device='cuda:0',\n       grad_fn=<ViewBackward0>)"
     },
     "execution_count": 13,
     "metadata": {},
     "output_type": "execute_result"
    }
   ],
   "source": [
    "from torch_geometric.loader import DataLoader\n",
    "loader = DataLoader(dataset, batch_size=1, shuffle=False, num_workers=6, drop_last=False)\n",
    "\n",
    "model = model.to(device)\n",
    "bb, raw, mask_id, original_token = next(iter(loader))\n",
    "bb = bb.to(device)\n",
    "model(bb.x, bb.edge_index, bb.batch)"
   ],
   "metadata": {
    "collapsed": false,
    "ExecuteTime": {
     "end_time": "2023-11-19T09:25:33.525261399Z",
     "start_time": "2023-11-19T09:25:32.492625609Z"
    }
   },
   "id": "6597b3f34e1ed630"
  },
  {
   "cell_type": "code",
   "execution_count": null,
   "outputs": [],
   "source": [],
   "metadata": {
    "collapsed": false
   },
   "id": "29b7be78bce208c1"
  }
 ],
 "metadata": {
  "kernelspec": {
   "display_name": "Python 3",
   "language": "python",
   "name": "python3"
  },
  "language_info": {
   "codemirror_mode": {
    "name": "ipython",
    "version": 2
   },
   "file_extension": ".py",
   "mimetype": "text/x-python",
   "name": "python",
   "nbconvert_exporter": "python",
   "pygments_lexer": "ipython2",
   "version": "2.7.6"
  }
 },
 "nbformat": 4,
 "nbformat_minor": 5
}
