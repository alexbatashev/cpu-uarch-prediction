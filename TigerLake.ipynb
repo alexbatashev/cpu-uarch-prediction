{
 "cells": [
  {
   "cell_type": "code",
   "execution_count": 3,
   "metadata": {
    "collapsed": true,
    "ExecuteTime": {
     "end_time": "2023-05-12T18:50:23.985837563Z",
     "start_time": "2023-05-12T18:50:23.976513403Z"
    }
   },
   "outputs": [],
   "source": [
    "embedding_size = 256\n",
    "hidden_size = 128\n",
    "batch_size = 32\n",
    "output_size = 10 # It is known that Willow Cove features 10 \"ports\"\n",
    "num_heads = 6\n",
    "\n",
    "learning_rate = 0.02"
   ]
  },
  {
   "cell_type": "code",
   "execution_count": 4,
   "outputs": [],
   "source": [
    "import model.utils\n",
    "import torch\n",
    "from torch_geometric.loader import DataLoader\n",
    "import torch.utils.data\n",
    "\n",
    "dataset = model.utils.BasicBlockDataset(\"data/i5_1135g7.pb\", dtype=torch.float32)\n",
    "train_size = int(0.3 * len(dataset))\n",
    "test_size = len(dataset) - train_size\n",
    "train_dataset, val_dataset = torch.utils.data.random_split(dataset, [train_size, test_size])\n",
    "train_loader = DataLoader(train_dataset, batch_size=batch_size, shuffle=True, num_workers=6)\n",
    "val_loader = DataLoader(val_dataset, batch_size=batch_size, shuffle=False, num_workers=6)"
   ],
   "metadata": {
    "collapsed": false,
    "ExecuteTime": {
     "end_time": "2023-05-12T18:50:28.884537681Z",
     "start_time": "2023-05-12T18:50:24.917367816Z"
    }
   }
  },
  {
   "cell_type": "code",
   "execution_count": 5,
   "outputs": [],
   "source": [
    "from model.GraphEncoder import GATEncoder, GCNEncoder\n",
    "from model.Predictor import Predictor\n",
    "import torch_geometric\n",
    "\n",
    "device = torch.device(\"cuda\" if torch.cuda.is_available() else \"cpu\")\n",
    "#device = torch.device(\"cpu\")\n",
    "\n",
    "encoder = GATEncoder(dataset.num_opcodes, embedding_size, hidden_size, num_heads).to(device)\n",
    "#encoder = GCNEncoder(dataset.num_opcodes, embedding_size, hidden_size).to(device)\n",
    "model = Predictor(encoder, hidden_size, output_size, batch_size).to(device)"
   ],
   "metadata": {
    "collapsed": false,
    "ExecuteTime": {
     "end_time": "2023-05-12T18:50:35.985839599Z",
     "start_time": "2023-05-12T18:50:34.936209015Z"
    }
   }
  },
  {
   "cell_type": "code",
   "execution_count": 6,
   "outputs": [
    {
     "name": "stderr",
     "output_type": "stream",
     "text": [
      "GPU available: True (cuda), used: True\n",
      "TPU available: False, using: 0 TPU cores\n",
      "IPU available: False, using: 0 IPUs\n",
      "HPU available: False, using: 0 HPUs\n",
      "LOCAL_RANK: 0 - CUDA_VISIBLE_DEVICES: [0]\n",
      "\n",
      "  | Name    | Type       | Params\n",
      "---------------------------------------\n",
      "0 | encoder | GATEncoder | 113 K \n",
      "1 | fc1     | Linear     | 8.3 K \n",
      "2 | fc2     | Linear     | 650   \n",
      "---------------------------------------\n",
      "121 K     Trainable params\n",
      "0         Non-trainable params\n",
      "121 K     Total params\n",
      "0.488     Total estimated model params size (MB)\n"
     ]
    },
    {
     "data": {
      "text/plain": "Sanity Checking: 0it [00:00, ?it/s]",
      "application/vnd.jupyter.widget-view+json": {
       "version_major": 2,
       "version_minor": 0,
       "model_id": "9d08930360624d58b9c68d341e948a4b"
      }
     },
     "metadata": {},
     "output_type": "display_data"
    },
    {
     "data": {
      "text/plain": "Training: 0it [00:00, ?it/s]",
      "application/vnd.jupyter.widget-view+json": {
       "version_major": 2,
       "version_minor": 0,
       "model_id": "28394fb30c554d938747b15de62d3f7d"
      }
     },
     "metadata": {},
     "output_type": "display_data"
    },
    {
     "data": {
      "text/plain": "Validation: 0it [00:00, ?it/s]",
      "application/vnd.jupyter.widget-view+json": {
       "version_major": 2,
       "version_minor": 0,
       "model_id": "28f077ee1ea54a8a8a2bdf0aee4db8ff"
      }
     },
     "metadata": {},
     "output_type": "display_data"
    },
    {
     "data": {
      "text/plain": "Validation: 0it [00:00, ?it/s]",
      "application/vnd.jupyter.widget-view+json": {
       "version_major": 2,
       "version_minor": 0,
       "model_id": "3aa5d00efccf4ca084edf0aa69d5b22f"
      }
     },
     "metadata": {},
     "output_type": "display_data"
    },
    {
     "data": {
      "text/plain": "Validation: 0it [00:00, ?it/s]",
      "application/vnd.jupyter.widget-view+json": {
       "version_major": 2,
       "version_minor": 0,
       "model_id": "9871cefc944c43abb4066b3298825e6e"
      }
     },
     "metadata": {},
     "output_type": "display_data"
    },
    {
     "data": {
      "text/plain": "Validation: 0it [00:00, ?it/s]",
      "application/vnd.jupyter.widget-view+json": {
       "version_major": 2,
       "version_minor": 0,
       "model_id": "ce83d1462d774dc188d0b039cf95bd98"
      }
     },
     "metadata": {},
     "output_type": "display_data"
    },
    {
     "data": {
      "text/plain": "Validation: 0it [00:00, ?it/s]",
      "application/vnd.jupyter.widget-view+json": {
       "version_major": 2,
       "version_minor": 0,
       "model_id": "52e035d4814040d5898a74a165e517b0"
      }
     },
     "metadata": {},
     "output_type": "display_data"
    },
    {
     "name": "stderr",
     "output_type": "stream",
     "text": [
      "/home/alex/anaconda3/envs/pytorch2/lib/python3.10/site-packages/lightning/pytorch/trainer/call.py:54: UserWarning: Detected KeyboardInterrupt, attempting graceful shutdown...\n",
      "  rank_zero_warn(\"Detected KeyboardInterrupt, attempting graceful shutdown...\")\n"
     ]
    }
   ],
   "source": [
    "from model.model import train\n",
    "import torch\n",
    "\n",
    "checkpoint_dir = \"checkpoints/tgl\"\n",
    "checkpoint_freq = 10\n",
    "num_epochs = 200\n",
    "\n",
    "if torch.cuda.is_available():\n",
    "    torch.cuda.empty_cache()\n",
    "\n",
    "train(model, device, train_loader, val_loader, num_epochs, batch_size, learning_rate, checkpoint_dir, checkpoint_freq)"
   ],
   "metadata": {
    "collapsed": false,
    "ExecuteTime": {
     "end_time": "2023-05-12T18:52:21.849229487Z",
     "start_time": "2023-05-12T18:50:37.870506298Z"
    }
   }
  },
  {
   "cell_type": "code",
   "execution_count": 5,
   "outputs": [],
   "source": [
    "torch.save(model, \"trained_models/tgl.pt\")"
   ],
   "metadata": {
    "collapsed": false,
    "ExecuteTime": {
     "start_time": "2023-05-08T20:58:49.361297Z",
     "end_time": "2023-05-08T20:58:49.407656Z"
    }
   }
  },
  {
   "cell_type": "code",
   "execution_count": 6,
   "outputs": [
    {
     "name": "stdout",
     "output_type": "stream",
     "text": [
      "tensor([[0., 0., 0.,  ..., 0., 0., 1.],\n",
      "        [0., 0., 0.,  ..., 0., 0., 0.],\n",
      "        [0., 0., 0.,  ..., 0., 0., 0.],\n",
      "        [0., 0., 0.,  ..., 0., 0., 0.],\n",
      "        [0., 0., 0.,  ..., 0., 0., 0.]])\n",
      "Port  |    0   |    1   |    2   |    3   |    4   |    5   |    6   |    7   |    8   |    9   |\n",
      "--------------------------------------------------------------------------------------\n",
      "       | 0.04   | 0.00   | 0.00   | 0.00   | 0.00   | 0.00   | 0.03   | 0.03   | 0.01   | 0.00   | movq\t38792(%rbx,%r13,8), %r12\n",
      "       | 0.04   | 0.00   | 0.00   | 0.00   | 0.00   | 0.00   | 0.03   | 0.03   | 0.01   | 0.00   | xorl\t%r15d, %r15d\n",
      "       | 0.04   | 0.00   | 0.00   | 0.00   | 0.00   | 0.00   | 0.03   | 0.03   | 0.01   | 0.00   | leaq\t7536(%r12), %r14\n",
      "       | 0.04   | 0.00   | 0.00   | 0.00   | 0.00   | 0.00   | 0.03   | 0.03   | 0.01   | 0.00   | cmpl\t%r15d, 4952(%rbx)\n",
      "tensor(0.1763, device='cuda:0', grad_fn=<AddBackward0>)\n",
      "13.535\n"
     ]
    }
   ],
   "source": [
    "choice = dataset[140]\n",
    "bb, m, raw = choice\n",
    "\n",
    "from model.utils import print_port_pressure_table, estimate_cycles\n",
    "\n",
    "print(bb.x)\n",
    "\n",
    "input_sequence = bb.x.to(device)\n",
    "edge_index = bb.edge_index.to(device)\n",
    "\n",
    "out = model(input_sequence, edge_index)\n",
    "res = out.to(\"cpu\").detach().numpy()\n",
    "print_port_pressure_table(res[1:], raw[\"source\"])\n",
    "print(estimate_cycles(out))\n",
    "print(m)"
   ],
   "metadata": {
    "collapsed": false,
    "ExecuteTime": {
     "start_time": "2023-05-08T20:58:50.063131Z",
     "end_time": "2023-05-08T20:58:50.083557Z"
    }
   }
  },
  {
   "cell_type": "code",
   "execution_count": null,
   "outputs": [],
   "source": [],
   "metadata": {
    "collapsed": false
   }
  }
 ],
 "metadata": {
  "kernelspec": {
   "display_name": "Python 3",
   "language": "python",
   "name": "python3"
  },
  "language_info": {
   "codemirror_mode": {
    "name": "ipython",
    "version": 2
   },
   "file_extension": ".py",
   "mimetype": "text/x-python",
   "name": "python",
   "nbconvert_exporter": "python",
   "pygments_lexer": "ipython2",
   "version": "2.7.6"
  }
 },
 "nbformat": 4,
 "nbformat_minor": 0
}
