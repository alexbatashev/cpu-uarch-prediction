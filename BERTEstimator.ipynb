{
 "cells": [
  {
   "cell_type": "code",
   "execution_count": 1,
   "id": "initial_id",
   "metadata": {
    "collapsed": true,
    "ExecuteTime": {
     "end_time": "2023-09-12T19:15:28.900045Z",
     "start_time": "2023-09-12T19:15:24.846499Z"
    }
   },
   "outputs": [
    {
     "name": "stdout",
     "output_type": "stream",
     "text": [
      "Training with 44082 samples\n"
     ]
    }
   ],
   "source": [
    "from llvm_ml.torch import BasicBlockDataset\n",
    "banned_ids = []\n",
    "dataset = BasicBlockDataset(\"./data/ryzen3600_v11.cbuf\", masked=True, banned_ids=banned_ids)\n",
    "print(f\"Training with {len(dataset)} samples\")"
   ]
  },
  {
   "cell_type": "code",
   "execution_count": null,
   "outputs": [
    {
     "name": "stderr",
     "output_type": "stream",
     "text": [
      "Trainer already configured with model summary callbacks: [<class 'lightning.pytorch.callbacks.model_summary.ModelSummary'>]. Skipping setting a default `ModelSummary` callback.\n",
      "GPU available: True (mps), used: False\n",
      "TPU available: False, using: 0 TPU cores\n",
      "IPU available: False, using: 0 IPUs\n",
      "HPU available: False, using: 0 HPUs\n",
      "/Users/alex/miniconda3/envs/cpu-uarch-prediction2/lib/python3.10/site-packages/lightning/pytorch/trainer/setup.py:201: UserWarning: MPS available but not used. Set `accelerator` and `devices` using `Trainer(accelerator='mps', devices=1)`.\n",
      "  rank_zero_warn(\n",
      "\n",
      "   | Name                               | Type               | Params\n",
      "---------------------------------------------------------------------------\n",
      "0  | embedding                          | MCEmbedding        | 336 K \n",
      "1  | embedding.embedding                | Embedding          | 336 K \n",
      "2  | embedding.pos_encoding             | PositionalEncoding | 0     \n",
      "3  | embedding.norm                     | LayerNorm          | 32    \n",
      "4  | encoders                           | ModuleList         | 44.7 K\n",
      "5  | encoders.0                         | MCGraphEncoder     | 11.2 K\n",
      "6  | encoders.0.attention               | MCGraphAttention   | 9.0 K \n",
      "7  | encoders.0.attention.attention     | DenseGATConv       | 4.9 K \n",
      "8  | encoders.0.attention.attention.lin | Linear             | 4.1 K \n",
      "9  | encoders.0.attention.linear        | Linear             | 4.1 K \n",
      "10 | encoders.0.attention.norm          | LayerNorm          | 32    \n",
      "11 | encoders.0.feed_forward            | Sequential         | 2.1 K \n",
      "12 | encoders.0.feed_forward.0          | Linear             | 1.1 K \n",
      "13 | encoders.0.feed_forward.1          | Dropout            | 0     \n",
      "14 | encoders.0.feed_forward.2          | GELU               | 0     \n",
      "15 | encoders.0.feed_forward.3          | Linear             | 1.0 K \n",
      "16 | encoders.0.feed_forward.4          | Dropout            | 0     \n",
      "17 | encoders.0.norm                    | LayerNorm          | 32    \n",
      "18 | encoders.1                         | MCGraphEncoder     | 11.2 K\n",
      "19 | encoders.1.attention               | MCGraphAttention   | 9.0 K \n",
      "20 | encoders.1.attention.attention     | DenseGATConv       | 4.9 K \n",
      "21 | encoders.1.attention.attention.lin | Linear             | 4.1 K \n",
      "22 | encoders.1.attention.linear        | Linear             | 4.1 K \n",
      "23 | encoders.1.attention.norm          | LayerNorm          | 32    \n",
      "24 | encoders.1.feed_forward            | Sequential         | 2.1 K \n",
      "25 | encoders.1.feed_forward.0          | Linear             | 1.1 K \n",
      "26 | encoders.1.feed_forward.1          | Dropout            | 0     \n",
      "27 | encoders.1.feed_forward.2          | GELU               | 0     \n",
      "28 | encoders.1.feed_forward.3          | Linear             | 1.0 K \n",
      "29 | encoders.1.feed_forward.4          | Dropout            | 0     \n",
      "30 | encoders.1.norm                    | LayerNorm          | 32    \n",
      "31 | encoders.2                         | MCGraphEncoder     | 11.2 K\n",
      "32 | encoders.2.attention               | MCGraphAttention   | 9.0 K \n",
      "33 | encoders.2.attention.attention     | DenseGATConv       | 4.9 K \n",
      "34 | encoders.2.attention.attention.lin | Linear             | 4.1 K \n",
      "35 | encoders.2.attention.linear        | Linear             | 4.1 K \n",
      "36 | encoders.2.attention.norm          | LayerNorm          | 32    \n",
      "37 | encoders.2.feed_forward            | Sequential         | 2.1 K \n",
      "38 | encoders.2.feed_forward.0          | Linear             | 1.1 K \n",
      "39 | encoders.2.feed_forward.1          | Dropout            | 0     \n",
      "40 | encoders.2.feed_forward.2          | GELU               | 0     \n",
      "41 | encoders.2.feed_forward.3          | Linear             | 1.0 K \n",
      "42 | encoders.2.feed_forward.4          | Dropout            | 0     \n",
      "43 | encoders.2.norm                    | LayerNorm          | 32    \n",
      "44 | encoders.3                         | MCGraphEncoder     | 11.2 K\n",
      "45 | encoders.3.attention               | MCGraphAttention   | 9.0 K \n",
      "46 | encoders.3.attention.attention     | DenseGATConv       | 4.9 K \n",
      "47 | encoders.3.attention.attention.lin | Linear             | 4.1 K \n",
      "48 | encoders.3.attention.linear        | Linear             | 4.1 K \n",
      "49 | encoders.3.attention.norm          | LayerNorm          | 32    \n",
      "50 | encoders.3.feed_forward            | Sequential         | 2.1 K \n",
      "51 | encoders.3.feed_forward.0          | Linear             | 1.1 K \n",
      "52 | encoders.3.feed_forward.1          | Dropout            | 0     \n",
      "53 | encoders.3.feed_forward.2          | GELU               | 0     \n",
      "54 | encoders.3.feed_forward.3          | Linear             | 1.0 K \n",
      "55 | encoders.3.feed_forward.4          | Dropout            | 0     \n",
      "56 | encoders.3.norm                    | LayerNorm          | 32    \n",
      "57 | token_prediction                   | Linear             | 357 K \n",
      "58 | softmax                            | LogSoftmax         | 0     \n",
      "59 | regression                         | Linear             | 17    \n",
      "60 | train_mae                          | MeanAbsoluteError  | 0     \n",
      "61 | val_mae                            | MeanAbsoluteError  | 0     \n",
      "---------------------------------------------------------------------------\n",
      "737 K     Trainable params\n",
      "0         Non-trainable params\n",
      "737 K     Total params\n",
      "2.951     Total estimated model params size (MB)\n"
     ]
    },
    {
     "data": {
      "text/plain": "Sanity Checking: 0it [00:00, ?it/s]",
      "application/vnd.jupyter.widget-view+json": {
       "version_major": 2,
       "version_minor": 0,
       "model_id": "787be09d3ed44dca92959b5b28b2491a"
      }
     },
     "metadata": {},
     "output_type": "display_data"
    },
    {
     "data": {
      "text/plain": "Training: 0it [00:00, ?it/s]",
      "application/vnd.jupyter.widget-view+json": {
       "version_major": 2,
       "version_minor": 0,
       "model_id": "ebdfc828a10d46cda1039d206b322da4"
      }
     },
     "metadata": {},
     "output_type": "display_data"
    },
    {
     "data": {
      "text/plain": "Validation: 0it [00:00, ?it/s]",
      "application/vnd.jupyter.widget-view+json": {
       "version_major": 2,
       "version_minor": 0,
       "model_id": "2de47eea30764765bda7b0ea4a019fee"
      }
     },
     "metadata": {},
     "output_type": "display_data"
    }
   ],
   "source": [
    "from model.GraphBERT import ThroughputEstimator\n",
    "from torch_geometric.loader import DataLoader\n",
    "import torch\n",
    "from lightning.pytorch.loggers import TensorBoardLogger\n",
    "import lightning.pytorch as pl\n",
    "from model import GraphBERT\n",
    "from lightning.pytorch.callbacks import ModelSummary\n",
    "from torch_geometric import compile\n",
    "\n",
    "import importlib\n",
    "importlib.reload(GraphBERT)\n",
    "\n",
    "import warnings\n",
    "warnings.filterwarnings('ignore', category=UserWarning, message='TypedStorage is deprecated')\n",
    "\n",
    "batch_size = 128\n",
    "hidden_dim = 64\n",
    "emb_size = 16\n",
    "\n",
    "num_training = int(0.7 * len(dataset))\n",
    "num_val = len(dataset) - num_training\n",
    "\n",
    "train_dataset, val_dataset = torch.utils.data.random_split(dataset, [num_training, num_val])\n",
    "train_loader = DataLoader(train_dataset, batch_size=batch_size, shuffle=True, num_workers=6, drop_last=True)\n",
    "val_loader = DataLoader(val_dataset, batch_size=batch_size, shuffle=False, num_workers=6, drop_last=True)\n",
    "\n",
    "model = ThroughputEstimator(dataset.num_opcodes, emb_size, batch_size, hidden_dim, learning_rate=0.00001)\n",
    "# model = compile(model)\n",
    "\n",
    "logger = TensorBoardLogger(\"runs\", name=\"bert\")\n",
    "logger.log_graph(model)\n",
    "trainer = pl.Trainer(max_epochs=40, logger=logger, callbacks=[ModelSummary(max_depth=-1)])\n",
    "trainer.fit(model, train_loader, val_loader)"
   ],
   "metadata": {
    "collapsed": false,
    "is_executing": true,
    "ExecuteTime": {
     "start_time": "2023-09-12T19:15:28.900675Z"
    }
   },
   "id": "3ed1dc75f632603"
  },
  {
   "cell_type": "markdown",
   "source": [],
   "metadata": {
    "collapsed": false
   },
   "id": "ce507258e5bce8d7"
  }
 ],
 "metadata": {
  "kernelspec": {
   "display_name": "Python 3",
   "language": "python",
   "name": "python3"
  },
  "language_info": {
   "codemirror_mode": {
    "name": "ipython",
    "version": 2
   },
   "file_extension": ".py",
   "mimetype": "text/x-python",
   "name": "python",
   "nbconvert_exporter": "python",
   "pygments_lexer": "ipython2",
   "version": "2.7.6"
  }
 },
 "nbformat": 4,
 "nbformat_minor": 5
}
