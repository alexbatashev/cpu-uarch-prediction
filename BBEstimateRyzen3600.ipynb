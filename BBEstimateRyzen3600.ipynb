{
 "cells": [
  {
   "cell_type": "code",
   "execution_count": 2,
   "metadata": {
    "ExecuteTime": {
     "end_time": "2023-07-21T17:02:33.941734Z",
     "start_time": "2023-07-21T17:02:09.278454Z"
    },
    "collapsed": true
   },
   "outputs": [
    {
     "name": "stdout",
     "output_type": "stream",
     "text": [
      "Training with 147005 samples\n"
     ]
    }
   ],
   "source": [
    "import torch\n",
    "import torch.nn.functional as F\n",
    "from torch_geometric.nn import GCNConv, global_add_pool, GATConv, RGCNConv, GraphConv, global_mean_pool\n",
    "import pytorch_lightning as pl\n",
    "from torch_geometric.loader import DataLoader\n",
    "from model.utils import BasicBlockDataset, plot_hist\n",
    "import torch.utils.data\n",
    "from lightning.pytorch.loggers import TensorBoardLogger\n",
    "import numpy as np\n",
    "import PIL.Image\n",
    "from torchvision.transforms import ToTensor\n",
    "\n",
    "dtype = torch.float32\n",
    "\n",
    "dataset = BasicBlockDataset(\"data/ryzen3600_v1.pb\", dtype=dtype)\n",
    "print(f\"Training with {len(dataset)} samples\")"
   ]
  },
  {
   "cell_type": "code",
   "execution_count": null,
   "metadata": {
    "is_executing": true,
    "ExecuteTime": {
     "start_time": "2023-07-21T17:06:32.282910Z"
    }
   },
   "outputs": [
    {
     "name": "stderr",
     "output_type": "stream",
     "text": [
      "GPU available: True (mps), used: True\n",
      "TPU available: False, using: 0 TPU cores\n",
      "IPU available: False, using: 0 IPUs\n",
      "HPU available: False, using: 0 HPUs\n",
      "\n",
      "  | Name | Type      | Params\n",
      "-----------------------------------\n",
      "0 | conv | GConvLSTM | 282 K \n",
      "1 | fc   | Linear    | 257   \n",
      "-----------------------------------\n",
      "282 K     Trainable params\n",
      "0         Non-trainable params\n",
      "282 K     Total params\n",
      "1.130     Total estimated model params size (MB)\n"
     ]
    },
    {
     "data": {
      "text/plain": "Sanity Checking: 0it [00:00, ?it/s]",
      "application/vnd.jupyter.widget-view+json": {
       "version_major": 2,
       "version_minor": 0,
       "model_id": "b8347c38cdb64b4388dd2ae6af0ef44c"
      }
     },
     "metadata": {},
     "output_type": "display_data"
    }
   ],
   "source": [
    "from torch_geometric_temporal.nn.recurrent import DCRNN, GConvLSTM\n",
    "\n",
    "class GNN(pl.LightningModule):\n",
    "    def __init__(self, input_dim, hidden_dim, output_dim, batch_size, learning_rate=0.01):\n",
    "        super(GNN, self).__init__()\n",
    "        self.hidden_dim = hidden_dim\n",
    "        self.conv = GConvLSTM(input_dim, hidden_dim, 1)\n",
    "        self.fc = torch.nn.Linear(hidden_dim, output_dim)\n",
    "        self.lr = learning_rate\n",
    "        self.batch_size = batch_size\n",
    "        self.val_measurements = [[], []]\n",
    "\n",
    "    def forward(self, data):\n",
    "        x, edge_index, batch = data.x, data.edge_index, data.batch\n",
    "\n",
    "        x = self.conv(x, edge_index)\n",
    "\n",
    "        x = self.fc(x)\n",
    "        x = F.relu(x)\n",
    "        return x\n",
    "\n",
    "    def training_step(self, batch, batch_idx):\n",
    "        bb, measured, _ = batch\n",
    "        y_hat = self(bb)\n",
    "        loss = F.mse_loss(y_hat, measured)\n",
    "        #l1_reg = 0.0\n",
    "        #for param in self.parameters():\n",
    "        #    l1_reg += torch.norm(param, 1)\n",
    "        #loss = loss + 1e-5 * l1_reg  # 1e-5 is the L1 penalty coefficient\n",
    "        mape = torch.mean(torch.abs((measured - y_hat) / measured)) * 100\n",
    "        self.log(\"train_loss\", loss, on_epoch=True, batch_size=self.batch_size)\n",
    "        self.log(\"train_mape\", mape, on_epoch=True, batch_size=self.batch_size)\n",
    "        return loss\n",
    "\n",
    "    def validation_step(self, batch, batch_idx):\n",
    "        bb, measured, raw = batch\n",
    "        y_hat = self(bb)\n",
    "        loss = F.mse_loss(y_hat, measured)\n",
    "        mape = torch.mean(torch.abs((measured - y_hat) / measured)) * 100\n",
    "        self.log(\"val_loss\", loss, on_epoch=True, batch_size=self.batch_size)\n",
    "        self.log(\"val_mape\", mape, on_epoch=True, batch_size=self.batch_size)\n",
    "\n",
    "        for a, b in zip(y_hat, measured):\n",
    "            self.val_measurements[0].append(a.item())\n",
    "            self.val_measurements[1].append(b.item())\n",
    "\n",
    "        if batch_idx == 0:\n",
    "            num_samples_to_log = 5\n",
    "            for i in range(num_samples_to_log):\n",
    "                self.logger.experiment.add_scalar(f\"val/sample_{i}/true\", measured[i].item(), self.current_epoch)\n",
    "                self.logger.experiment.add_scalar(f\"val/sample_{i}/predicted\", y_hat[i].item(), self.current_epoch)\n",
    "                if self.global_step == 0:\n",
    "                    self.logger.experiment.add_text(f\"val/sample_{i}/source\", raw['source'][i], self.global_step)\n",
    "\n",
    "    def on_validation_epoch_end(self):\n",
    "        plot = plot_hist(np.array(self.val_measurements))\n",
    "        image = PIL.Image.open(plot)\n",
    "        image = ToTensor()(image).unsqueeze(0)\n",
    "        self.logger.experiment.add_image(\"val_histogram\", image[0], self.current_epoch)\n",
    "        self.val_measurements = [[], []]\n",
    "\n",
    "    def configure_optimizers(self):\n",
    "        optimizer = torch.optim.Adam(self.parameters(), lr=self.lr)\n",
    "        scheduler = torch.optim.lr_scheduler.ReduceLROnPlateau(optimizer, 'min', patience=6, factor=0.1)\n",
    "        return {\n",
    "            'optimizer': optimizer,\n",
    "            'lr_scheduler': {\n",
    "                'scheduler': scheduler,\n",
    "                'monitor': 'val_loss',\n",
    "            }\n",
    "        }\n",
    "\n",
    "\n",
    "batch_size = 64\n",
    "hidden_dim = 256\n",
    "output_dim = 1\n",
    "\n",
    "num_training = int(0.8 * len(dataset))\n",
    "num_val = len(dataset) - num_training\n",
    "\n",
    "train_dataset, val_dataset = torch.utils.data.random_split(dataset, [num_training, num_val])\n",
    "train_loader = DataLoader(train_dataset, batch_size=batch_size, shuffle=True, num_workers=6)\n",
    "val_loader = DataLoader(val_dataset, batch_size=batch_size, shuffle=False, num_workers=6)\n",
    "\n",
    "model = GNN(dataset.num_opcodes, hidden_dim, output_dim, batch_size)\n",
    "model = torch.compile(model)\n",
    "\n",
    "logger = TensorBoardLogger(\"runs\", name=\"3600_estimate\")\n",
    "trainer = pl.Trainer(max_epochs=100, logger=logger)\n",
    "trainer.fit(model, train_loader, val_loader)"
   ]
  },
  {
   "cell_type": "code",
   "execution_count": null,
   "metadata": {},
   "outputs": [],
   "source": []
  }
 ],
 "metadata": {
  "kernelspec": {
   "display_name": "Python 3 (ipykernel)",
   "language": "python",
   "name": "python3"
  },
  "language_info": {
   "codemirror_mode": {
    "name": "ipython",
    "version": 3
   },
   "file_extension": ".py",
   "mimetype": "text/x-python",
   "name": "python",
   "nbconvert_exporter": "python",
   "pygments_lexer": "ipython3",
   "version": "3.8.17"
  }
 },
 "nbformat": 4,
 "nbformat_minor": 1
}
