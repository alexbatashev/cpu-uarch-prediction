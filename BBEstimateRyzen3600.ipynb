{
 "cells": [
  {
   "cell_type": "code",
   "execution_count": 1,
   "metadata": {
    "ExecuteTime": {
     "end_time": "2023-07-27T18:24:30.157217595Z",
     "start_time": "2023-07-27T18:24:19.828023287Z"
    }
   },
   "outputs": [
    {
     "name": "stdout",
     "output_type": "stream",
     "text": [
      "Training with 57586 samples\n"
     ]
    }
   ],
   "source": [
    "from python.llvm_ml.data import load_pyg_dataset\n",
    "dataset = load_pyg_dataset(\"./data/ryzen3600_v1.pb\", use_binary_opcode=False)\n",
    "print(f\"Training with {len(dataset)} samples\")"
   ]
  },
  {
   "cell_type": "code",
   "execution_count": 2,
   "metadata": {
    "ExecuteTime": {
     "end_time": "2023-07-27T18:24:30.964191158Z",
     "start_time": "2023-07-27T18:24:30.175176767Z"
    }
   },
   "outputs": [],
   "source": [
    "import pytorch_lightning as pl\n",
    "from torch_geometric.loader import DataLoader\n",
    "from python.llvm_ml.utils import plot_histogram\n",
    "import torch.utils.data\n",
    "from lightning.pytorch.loggers import TensorBoardLogger\n",
    "import numpy as np\n",
    "import PIL.Image\n",
    "from torchvision.transforms import ToTensor\n",
    "from model.estimation import GNNEstimation, LSTMEstimation\n",
    "import torch.nn.functional as F\n",
    "import torchmetrics\n",
    "\n",
    "import warnings\n",
    "warnings.filterwarnings('ignore', category=UserWarning, message='TypedStorage is deprecated')\n",
    "\n",
    "class GNN(pl.LightningModule):\n",
    "    def __init__(self, conv, input_dim, hidden_dim, output_dim, batch_size, learning_rate=0.01):\n",
    "        super(GNN, self).__init__()\n",
    "        if conv == 'None':\n",
    "            self.model = LSTMEstimation(input_dim, hidden_dim, output_dim, batch_size)\n",
    "        else:\n",
    "            self.model = GNNEstimation(conv, input_dim, hidden_dim, output_dim, batch_size)\n",
    "\n",
    "        self.lr = learning_rate\n",
    "        self.batch_size = batch_size\n",
    "        self.val_measurements = [[], []]\n",
    "\n",
    "        # Metrics\n",
    "        self.train_mape = torchmetrics.MeanAbsolutePercentageError()\n",
    "        self.train_mae = torchmetrics.MeanAbsoluteError()\n",
    "        self.val_mape = torchmetrics.MeanAbsolutePercentageError()\n",
    "        self.val_mae = torchmetrics.MeanAbsoluteError()\n",
    "        # self.r2 = torchmetrics.R2Score()\n",
    "        # self.logcosh = torchmetrics.LogCoshError()\n",
    "        # self.val_cosinesim = torchmetrics.CosineSimilarity()\n",
    "\n",
    "    def forward(self, data):\n",
    "        return self.model(data)\n",
    "\n",
    "    def training_step(self, batch, batch_idx):\n",
    "        bb, raw = batch\n",
    "        y_hat = self(bb)\n",
    "        loss = F.mse_loss(y_hat, bb.y)\n",
    "        self.train_mape(y_hat, bb.y)\n",
    "        self.train_mae(y_hat, bb.y)\n",
    "        # self.r2(y_hat, bb.y)\n",
    "        # self.cosinesim(y_hat, bb.y)\n",
    "        # self.logcosh(y_hat, bb.y)\n",
    "        self.log(\"train_loss\", loss, on_epoch=True, batch_size=self.batch_size)\n",
    "        self.log(\"train_mape\", self.train_mape, on_epoch=True, batch_size=self.batch_size)\n",
    "        self.log(\"train_mae\", self.train_mae, on_epoch=True, batch_size=self.batch_size)\n",
    "        # if loss > 200:\n",
    "        #     for i in range(self.batch_size):\n",
    "        #         self.logger.experiment.add_text(f\"train_abnormal_{self.global_step}_{i}\", raw['source'][i], self.global_step)\n",
    "        # self.log(\"val_r2\", self.r2, on_epoch=True, batch_size=self.batch_size)\n",
    "        # self.log(\"val_cosine_similarity\", self.cosinesim, on_epoch=True, batch_size=self.batch_size)\n",
    "        # self.log(\"val_log_cosh\", self.logcosh, on_epoch=True, batch_size=self.batch_size)\n",
    "        return loss\n",
    "\n",
    "    def validation_step(self, batch, batch_idx):\n",
    "        bb, raw = batch\n",
    "        y_hat = self(bb)\n",
    "        loss = F.mse_loss(y_hat, bb.y)\n",
    "        self.val_mape(y_hat, bb.y)\n",
    "        self.val_mae(y_hat, bb.y)\n",
    "        # self.r2(y_hat, bb.y)\n",
    "        # self.val_cosinesim(y_hat, bb.y)\n",
    "        # self.logcosh(y_hat, bb.y)\n",
    "        self.log(\"val_loss\", loss, on_epoch=True, batch_size=self.batch_size)\n",
    "        self.log(\"val_mape\", self.val_mape, on_epoch=True, batch_size=self.batch_size)\n",
    "        self.log(\"val_mae\", self.val_mae, on_epoch=True, batch_size=self.batch_size)\n",
    "        # self.log(\"val_r2\", self.r2, on_epoch=True, batch_size=self.batch_size)\n",
    "        # self.log(\"val_cosine_similarity\", self.val_cosinesim, on_epoch=True, batch_size=self.batch_size)\n",
    "        # self.log(\"val_log_cosh\", self.logcosh, on_epoch=True, batch_size=self.batch_size)\n",
    "\n",
    "        for a, b in zip(y_hat, bb.y):\n",
    "            self.val_measurements[0].append(a.item())\n",
    "            self.val_measurements[1].append(b.item())\n",
    "\n",
    "        if batch_idx == 0:\n",
    "            num_samples_to_log = 5\n",
    "            for i in range(num_samples_to_log):\n",
    "                self.logger.experiment.add_scalar(f\"val/sample_{i}/true\", bb.y[i].item(), self.current_epoch)\n",
    "                self.logger.experiment.add_scalar(f\"val/sample_{i}/predicted\", y_hat[i].item(), self.current_epoch)\n",
    "                if self.global_step == 0:\n",
    "                    self.logger.experiment.add_text(f\"val/sample_{i}/source\", raw['source'][i], self.global_step)\n",
    "\n",
    "    def on_validation_epoch_end(self):\n",
    "        # plot = plot_histogram(np.asarray(self.val_measurements[0]), np.asarray(self.val_measurements[1]), percentile=0.95)\n",
    "        # image = PIL.Image.open(plot)\n",
    "        # image = ToTensor()(image).unsqueeze(0)\n",
    "        # self.logger.experiment.add_image(\"val_histogram\", image[0], self.current_epoch)\n",
    "        self.val_measurements = [[], []]\n",
    "\n",
    "    def configure_optimizers(self):\n",
    "        optimizer = torch.optim.Adam(self.parameters(), lr=self.lr)\n",
    "        scheduler = torch.optim.lr_scheduler.ReduceLROnPlateau(optimizer, 'min', patience=6, factor=0.1)\n",
    "        return {\n",
    "            'optimizer': optimizer,\n",
    "            'lr_scheduler': {\n",
    "                'scheduler': scheduler,\n",
    "                'monitor': 'val_loss',\n",
    "            }\n",
    "        }"
   ]
  },
  {
   "cell_type": "code",
   "execution_count": null,
   "outputs": [
    {
     "name": "stderr",
     "output_type": "stream",
     "text": [
      "GPU available: True (cuda), used: True\n",
      "TPU available: False, using: 0 TPU cores\n",
      "IPU available: False, using: 0 IPUs\n",
      "HPU available: False, using: 0 HPUs\n",
      "LOCAL_RANK: 0 - CUDA_VISIBLE_DEVICES: [0]\n",
      "\n",
      "  | Name       | Type                        | Params\n",
      "-----------------------------------------------------------\n",
      "0 | model      | GNNEstimation               | 7.7 M \n",
      "1 | train_mape | MeanAbsolutePercentageError | 0     \n",
      "2 | train_mae  | MeanAbsoluteError           | 0     \n",
      "3 | val_mape   | MeanAbsolutePercentageError | 0     \n",
      "4 | val_mae    | MeanAbsoluteError           | 0     \n",
      "-----------------------------------------------------------\n",
      "7.7 M     Trainable params\n",
      "0         Non-trainable params\n",
      "7.7 M     Total params\n",
      "30.969    Total estimated model params size (MB)\n"
     ]
    },
    {
     "data": {
      "text/plain": "Sanity Checking: 0it [00:00, ?it/s]",
      "application/vnd.jupyter.widget-view+json": {
       "version_major": 2,
       "version_minor": 0,
       "model_id": "36a13f030a7c463ca8c41b3de83e2385"
      }
     },
     "metadata": {},
     "output_type": "display_data"
    },
    {
     "data": {
      "text/plain": "Training: 0it [00:00, ?it/s]",
      "application/vnd.jupyter.widget-view+json": {
       "version_major": 2,
       "version_minor": 0,
       "model_id": "32cde0b9cb5d4a5aa8c704b457d36677"
      }
     },
     "metadata": {},
     "output_type": "display_data"
    },
    {
     "data": {
      "text/plain": "Validation: 0it [00:00, ?it/s]",
      "application/vnd.jupyter.widget-view+json": {
       "version_major": 2,
       "version_minor": 0,
       "model_id": "665c06654d36478ab365d1f9e7da52b9"
      }
     },
     "metadata": {},
     "output_type": "display_data"
    },
    {
     "data": {
      "text/plain": "Validation: 0it [00:00, ?it/s]",
      "application/vnd.jupyter.widget-view+json": {
       "version_major": 2,
       "version_minor": 0,
       "model_id": "bca8a2e445ff422eb428dc2f8505aec8"
      }
     },
     "metadata": {},
     "output_type": "display_data"
    },
    {
     "data": {
      "text/plain": "Validation: 0it [00:00, ?it/s]",
      "application/vnd.jupyter.widget-view+json": {
       "version_major": 2,
       "version_minor": 0,
       "model_id": "56bcae62c88f4fc3b13a85759891480e"
      }
     },
     "metadata": {},
     "output_type": "display_data"
    },
    {
     "data": {
      "text/plain": "Validation: 0it [00:00, ?it/s]",
      "application/vnd.jupyter.widget-view+json": {
       "version_major": 2,
       "version_minor": 0,
       "model_id": "6ac2ec4aca5146cab19653a1c24f78a9"
      }
     },
     "metadata": {},
     "output_type": "display_data"
    },
    {
     "data": {
      "text/plain": "Validation: 0it [00:00, ?it/s]",
      "application/vnd.jupyter.widget-view+json": {
       "version_major": 2,
       "version_minor": 0,
       "model_id": "5c5ba8cc78a4463c9354801a02167d78"
      }
     },
     "metadata": {},
     "output_type": "display_data"
    },
    {
     "data": {
      "text/plain": "Validation: 0it [00:00, ?it/s]",
      "application/vnd.jupyter.widget-view+json": {
       "version_major": 2,
       "version_minor": 0,
       "model_id": "b9c3784cb63645daae1c4e553e274db8"
      }
     },
     "metadata": {},
     "output_type": "display_data"
    },
    {
     "data": {
      "text/plain": "Validation: 0it [00:00, ?it/s]",
      "application/vnd.jupyter.widget-view+json": {
       "version_major": 2,
       "version_minor": 0,
       "model_id": "c5410647f88b4db095b1afd17e958234"
      }
     },
     "metadata": {},
     "output_type": "display_data"
    },
    {
     "data": {
      "text/plain": "Validation: 0it [00:00, ?it/s]",
      "application/vnd.jupyter.widget-view+json": {
       "version_major": 2,
       "version_minor": 0,
       "model_id": "793b04d0fb8c46dc928eb266326735c8"
      }
     },
     "metadata": {},
     "output_type": "display_data"
    },
    {
     "data": {
      "text/plain": "Validation: 0it [00:00, ?it/s]",
      "application/vnd.jupyter.widget-view+json": {
       "version_major": 2,
       "version_minor": 0,
       "model_id": "145d167ccc324aaf92a0ffbcc7fc0f1b"
      }
     },
     "metadata": {},
     "output_type": "display_data"
    }
   ],
   "source": [
    "batch_size = 64\n",
    "hidden_dim = 512\n",
    "output_dim = 1\n",
    "\n",
    "num_training = int(0.8 * len(dataset))\n",
    "num_val = len(dataset) - num_training\n",
    "\n",
    "train_dataset, val_dataset = torch.utils.data.random_split(dataset, [num_training, num_val])\n",
    "train_loader = DataLoader(train_dataset, batch_size=batch_size, shuffle=True, num_workers=6, drop_last=True)\n",
    "val_loader = DataLoader(val_dataset, batch_size=batch_size, shuffle=False, num_workers=6, drop_last=True)\n",
    "\n",
    "model = GNN(\"GraphConv\", 256, hidden_dim, output_dim, batch_size)\n",
    "\n",
    "logger = TensorBoardLogger(\"runs\", name=\"3600_estimate_embedding\")\n",
    "logger.log_graph(model)\n",
    "trainer = pl.Trainer(max_epochs=100, logger=logger)\n",
    "trainer.fit(model, train_loader, val_loader)"
   ],
   "metadata": {
    "collapsed": false,
    "is_executing": true,
    "ExecuteTime": {
     "start_time": "2023-07-27T18:25:25.164902198Z"
    }
   }
  },
  {
   "cell_type": "code",
   "execution_count": 3,
   "metadata": {},
   "outputs": [],
   "source": []
  }
 ],
 "metadata": {
  "kernelspec": {
   "display_name": "Python 3 (ipykernel)",
   "language": "python",
   "name": "python3"
  },
  "language_info": {
   "codemirror_mode": {
    "name": "ipython",
    "version": 3
   },
   "file_extension": ".py",
   "mimetype": "text/x-python",
   "name": "python",
   "nbconvert_exporter": "python",
   "pygments_lexer": "ipython3",
   "version": "3.8.17"
  }
 },
 "nbformat": 4,
 "nbformat_minor": 1
}
