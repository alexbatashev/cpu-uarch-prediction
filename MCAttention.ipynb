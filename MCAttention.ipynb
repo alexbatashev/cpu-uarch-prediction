{
 "cells": [
  {
   "cell_type": "code",
   "execution_count": 1,
   "id": "initial_id",
   "metadata": {
    "collapsed": true,
    "ExecuteTime": {
     "end_time": "2023-09-26T18:17:59.302088849Z",
     "start_time": "2023-09-26T18:16:48.444229287Z"
    }
   },
   "outputs": [
    {
     "name": "stdout",
     "output_type": "stream",
     "text": [
      "Training with 465539 samples\n"
     ]
    }
   ],
   "source": [
    "import torch\n",
    "from llvm_ml.torch import BasicBlockDataset\n",
    "banned_ids = []\n",
    "dataset = BasicBlockDataset(\"./data/ryzen3600_v14.cbuf\", masked=True, banned_ids=banned_ids, prefilter=True)\n",
    "print(f\"Training with {len(dataset)} samples\")"
   ]
  },
  {
   "cell_type": "code",
   "execution_count": 2,
   "outputs": [],
   "source": [
    "import torch.nn as nn\n",
    "import torch.nn.functional as F\n",
    "\n",
    "class MCAttentionHead(nn.Module):\n",
    "     def __init__(self, in_size, heads=4):\n",
    "        super().__init__()\n",
    "        \n",
    "        self.num_heads = heads\n",
    "        \n",
    "        self.key = nn.Linear(in_size, in_size, bias=False)\n",
    "        self.query = nn.Linear(in_size, in_size, bias=False)\n",
    "        self.value = nn.Linear(in_size, in_size, bias=False)\n",
    "         \n",
    "        self.proj = nn.Linear(in_size, in_size)\n",
    "        \n",
    "     def forward(self, nodes, edge_index, mask=None):\n",
    "        B, T, C = nodes.shape\n",
    "        \n",
    "        k = self.key(nodes).view(B, T, self.num_heads, C // self.num_heads).transpose(1, 2)\n",
    "        q = self.query(nodes).view(B, T, self.num_heads, C // self.num_heads).transpose(1, 2)\n",
    "        \n",
    "        weight = torch.matmul(q, k.transpose(-2, -1)) * self.num_heads ** -0.5\n",
    "        \n",
    "        scale = 3 * edge_index + torch.ones(edge_index.shape)\n",
    "\n",
    "        weight = weight * scale\n",
    "        \n",
    "        if mask is not None:\n",
    "            weight = weight.masked_fill(mask.unsqueeze(-1) == False, float('-inf'))\n",
    "\n",
    "        # TODO for decoder weight must be a triangle matrix\n",
    "        weight = F.softmax(weight, dim=-1)\n",
    "        \n",
    "        v = self.value(nodes).view(B, T, self.num_heads, C // self.num_heads).transpose(1, 2)\n",
    "        \n",
    "        res = torch.matmul(weight, v)\n",
    "        \n",
    "        res = res.transpose(1, 2).contiguous().view(B, T, C)\n",
    "        \n",
    "        return self.proj(res)"
   ],
   "metadata": {
    "collapsed": false,
    "ExecuteTime": {
     "end_time": "2023-09-26T18:23:16.945253731Z",
     "start_time": "2023-09-26T18:23:16.937583391Z"
    }
   },
   "id": "e2c56a35de958963"
  },
  {
   "cell_type": "code",
   "execution_count": 3,
   "outputs": [
    {
     "name": "stdout",
     "output_type": "stream",
     "text": [
      "Data(x=[11], edge_index=[2, 36], y=4.25)\n",
      "tensor([[    0,  2838,   520, 21001,  2798,   420,   413,  1790,  1834,  1399,\n",
      "          1835]], dtype=torch.int32)\n",
      "tensor([[[0., 1., 1., 1., 1., 1., 1., 1., 1., 1., 1.],\n",
      "         [1., 0., 1., 0., 0., 0., 0., 0., 0., 0., 0.],\n",
      "         [1., 1., 0., 0., 0., 1., 0., 0., 0., 0., 0.],\n",
      "         [1., 0., 0., 0., 1., 0., 0., 0., 0., 0., 0.],\n",
      "         [1., 0., 0., 1., 0., 1., 0., 0., 0., 0., 0.],\n",
      "         [1., 0., 1., 0., 1., 0., 1., 0., 0., 0., 0.],\n",
      "         [1., 0., 0., 0., 0., 1., 0., 0., 0., 0., 0.],\n",
      "         [1., 0., 0., 0., 0., 0., 0., 0., 1., 1., 0.],\n",
      "         [1., 0., 0., 0., 0., 0., 0., 1., 0., 1., 0.],\n",
      "         [1., 0., 0., 0., 0., 0., 0., 1., 1., 0., 0.],\n",
      "         [1., 0., 0., 0., 0., 0., 0., 0., 0., 0., 0.]]])\n",
      "tensor([[True, True, True, True, True, True, True, True, True, True, True]])\n"
     ]
    }
   ],
   "source": [
    "import torch_geometric\n",
    "import torch\n",
    "\n",
    "loader = torch_geometric.loader.DataLoader(dataset, batch_size=1, shuffle=False)\n",
    "\n",
    "bb = dataset[0][0]\n",
    "\n",
    "print(bb)\n",
    "\n",
    "from torch_geometric.utils import to_dense_adj, to_dense_batch\n",
    "\n",
    "dense_nodes, mask = to_dense_batch(bb.x)\n",
    "dense_adj = to_dense_adj(bb.edge_index.to(dtype=torch.int64))\n",
    "\n",
    "print(dense_nodes)\n",
    "print(dense_adj)\n",
    "print(mask)"
   ],
   "metadata": {
    "collapsed": false,
    "ExecuteTime": {
     "end_time": "2023-09-26T18:23:18.267337662Z",
     "start_time": "2023-09-26T18:23:18.254004237Z"
    }
   },
   "id": "9ca239cecff2c0cd"
  },
  {
   "cell_type": "code",
   "execution_count": 4,
   "outputs": [],
   "source": [
    "embedding = torch.nn.Embedding(21002, 64)\n",
    "\n",
    "embedded_nodes = embedding(dense_nodes)"
   ],
   "metadata": {
    "collapsed": false,
    "ExecuteTime": {
     "end_time": "2023-09-26T18:23:24.093997092Z",
     "start_time": "2023-09-26T18:23:24.050333865Z"
    }
   },
   "id": "bc4475c04180a328"
  },
  {
   "cell_type": "code",
   "execution_count": 5,
   "outputs": [
    {
     "name": "stdout",
     "output_type": "stream",
     "text": [
      "tensor([[[0., 1., 1., 1., 1., 1., 1., 1., 1., 1., 1.],\n",
      "         [1., 0., 1., 0., 0., 0., 0., 0., 0., 0., 0.],\n",
      "         [1., 1., 0., 0., 0., 1., 0., 0., 0., 0., 0.],\n",
      "         [1., 0., 0., 0., 1., 0., 0., 0., 0., 0., 0.],\n",
      "         [1., 0., 0., 1., 0., 1., 0., 0., 0., 0., 0.],\n",
      "         [1., 0., 1., 0., 1., 0., 1., 0., 0., 0., 0.],\n",
      "         [1., 0., 0., 0., 0., 1., 0., 0., 0., 0., 0.],\n",
      "         [1., 0., 0., 0., 0., 0., 0., 0., 1., 1., 0.],\n",
      "         [1., 0., 0., 0., 0., 0., 0., 1., 0., 1., 0.],\n",
      "         [1., 0., 0., 0., 0., 0., 0., 1., 1., 0., 0.],\n",
      "         [1., 0., 0., 0., 0., 0., 0., 0., 0., 0., 0.]]])\n"
     ]
    }
   ],
   "source": [
    "head = MCAttentionHead(64)\n",
    "\n",
    "print(dense_adj)"
   ],
   "metadata": {
    "collapsed": false,
    "ExecuteTime": {
     "end_time": "2023-09-26T18:23:53.919008136Z",
     "start_time": "2023-09-26T18:23:53.875461186Z"
    }
   },
   "id": "6fe06313f730db40"
  },
  {
   "cell_type": "code",
   "execution_count": 47,
   "outputs": [],
   "source": [
    "class MCAttention(nn.Module):\n",
    "    def __init__(self, in_size, heads=6):\n",
    "        super().__init__()\n",
    "        \n",
    "        self.heads = nn.ModuleList([MCAttentionHead(in_size, heads) for _ in range(heads)])\n",
    "        \n",
    "    def forward(self, nodes, edge_index, mask=None):\n",
    "        return torch.cat([h(nodes, edge_index, mask) for h in self.heads], dim=-1)"
   ],
   "metadata": {
    "collapsed": false,
    "ExecuteTime": {
     "end_time": "2023-09-24T19:20:42.644704221Z",
     "start_time": "2023-09-24T19:20:42.604283644Z"
    }
   },
   "id": "72b510bf09e1fb5"
  },
  {
   "cell_type": "code",
   "execution_count": 49,
   "outputs": [
    {
     "name": "stdout",
     "output_type": "stream",
     "text": [
      "tensor([[[ 0.2542, -0.2073, -0.0994,  ...,  0.4446,  0.1520, -0.0060],\n",
      "         [ 0.0114, -0.1102,  0.0033,  ...,  0.0111,  0.0599,  0.2841],\n",
      "         [ 0.2915, -0.0176,  0.2914,  ...,  0.1328,  0.4376,  0.4120],\n",
      "         ...,\n",
      "         [-0.3651,  0.2059, -0.0525,  ..., -0.0204, -0.0605,  0.3920],\n",
      "         [-0.0338,  0.0016,  0.0926,  ...,  0.0396, -0.1833,  0.2443],\n",
      "         [ 0.1662, -0.0659,  0.1320,  ..., -0.0608, -0.1146,  0.1879]]],\n",
      "       grad_fn=<CatBackward0>)\n"
     ]
    }
   ],
   "source": [
    "attn = MCAttention(64, 4)\n",
    "\n",
    "print(attn(embedded_nodes, dense_adj, mask))"
   ],
   "metadata": {
    "collapsed": false,
    "ExecuteTime": {
     "end_time": "2023-09-24T19:21:12.208080650Z",
     "start_time": "2023-09-24T19:21:12.162650310Z"
    }
   },
   "id": "54a77e662e7df03b"
  },
  {
   "cell_type": "code",
   "execution_count": null,
   "outputs": [],
   "source": [],
   "metadata": {
    "collapsed": false
   },
   "id": "53da89b7b3f7395b"
  }
 ],
 "metadata": {
  "kernelspec": {
   "display_name": "Python 3",
   "language": "python",
   "name": "python3"
  },
  "language_info": {
   "codemirror_mode": {
    "name": "ipython",
    "version": 2
   },
   "file_extension": ".py",
   "mimetype": "text/x-python",
   "name": "python",
   "nbconvert_exporter": "python",
   "pygments_lexer": "ipython2",
   "version": "2.7.6"
  }
 },
 "nbformat": 4,
 "nbformat_minor": 5
}
