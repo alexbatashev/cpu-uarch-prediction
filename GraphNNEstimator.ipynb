{
 "cells": [
  {
   "cell_type": "code",
   "execution_count": 1,
   "id": "initial_id",
   "metadata": {
    "collapsed": true,
    "ExecuteTime": {
     "end_time": "2023-08-27T07:09:10.858649582Z",
     "start_time": "2023-08-27T07:08:20.981617236Z"
    }
   },
   "outputs": [
    {
     "name": "stdout",
     "output_type": "stream",
     "text": [
      "Training with 166372 samples\n"
     ]
    }
   ],
   "source": [
    "from llvm_ml.data import load_pyg_dataset\n",
    "banned_ids = [\"clang_347660\", \"x264_29245\", \"clang_777523\"]\n",
    "# banned_ids = []\n",
    "dataset = load_pyg_dataset(\"./data/ryzen3600_v8.cbuf\", use_binary_opcode=False, banned_ids=banned_ids)\n",
    "print(f\"Training with {len(dataset)} samples\")\n",
    "# dataset.print_summary()"
   ]
  },
  {
   "cell_type": "code",
   "execution_count": 10,
   "outputs": [],
   "source": [
    "import pytorch_lightning as pl\n",
    "from torch_geometric.loader import DataLoader\n",
    "from llvm_ml.utils import plot_histogram\n",
    "import torch.utils.data\n",
    "from lightning.pytorch.loggers import TensorBoardLogger\n",
    "import numpy as np\n",
    "import PIL.Image\n",
    "from torchvision.transforms import ToTensor\n",
    "import torch.nn.functional as F\n",
    "from model.utils import plot_lift_chart\n",
    "from torch_geometric.nn import GCNConv, DenseGraphConv\n",
    "from torch_geometric.utils import to_dense_batch, to_dense_adj\n",
    "import torchmetrics\n",
    "\n",
    "import warnings\n",
    "warnings.filterwarnings('ignore', category=UserWarning, message='TypedStorage is deprecated')\n",
    "\n",
    "class GNN(pl.LightningModule):\n",
    "    def __init__(self, num_opcodes, hidden_size, batch_size, learning_rate=0.002, debug=False):\n",
    "        super(GNN, self).__init__()\n",
    "        \n",
    "        self.lr = learning_rate\n",
    "        self.batch_size = batch_size\n",
    "        \n",
    "        self.embedding = torch.nn.Embedding(num_opcodes, hidden_size)\n",
    "        self.conv1 = GCNConv(hidden_size, hidden_size // 2)\n",
    "        self.fc = torch.nn.Linear(hidden_size // 2, hidden_size)\n",
    "        self.conv2 = DenseGraphConv(hidden_size, hidden_size // 2, aggr=\"add\")\n",
    "        self.decode = torch.nn.Linear(hidden_size // 2, 1)\n",
    "        self.pool = torch.nn.AvgPool2d((1, 1))\n",
    "\n",
    "        self.train_mae = torchmetrics.MeanAbsoluteError()\n",
    "        self.val_mae = torchmetrics.MeanAbsoluteError()\n",
    "\n",
    "    def forward(self, data):\n",
    "        x = data.x\n",
    "        edge_index = data.edge_index\n",
    "        batch = data.batch\n",
    "        \n",
    "        x = self.embedding(x)\n",
    "        \n",
    "        x = self.conv1(x, edge_index)\n",
    "        x = F.relu(x)\n",
    "        \n",
    "        x, mask = to_dense_batch(x, batch)\n",
    "        dense_idx = to_dense_adj(edge_index, batch)\n",
    "        \n",
    "        x = self.fc(x)\n",
    "        \n",
    "        x = self.conv2(x, dense_idx, mask)\n",
    "        x = F.relu(x)\n",
    "        \n",
    "        x = self.decode(x)\n",
    "        x = F.relu(x)\n",
    "        \n",
    "        x = self.pool(x)\n",
    "        \n",
    "        return x[:, -1, 0].reshape(self.batch_size)\n",
    "        \n",
    "\n",
    "    def training_step(self, batch, batch_idx):\n",
    "        bb, raw = batch\n",
    "        y_hat = self(bb)\n",
    "        loss = F.mse_loss(y_hat, bb.y)\n",
    "\n",
    "        # # L1 regularization\n",
    "        # l1_lambda = 1e-5  # Regularization coefficient\n",
    "        # l1_norm = sum(p.abs().sum() for p in self.parameters())\n",
    "        # loss = loss + l1_lambda * l1_norm\n",
    "\n",
    "        self.train_mae(y_hat, bb.y)\n",
    "        self.log(\"train_loss\", loss, on_epoch=True, batch_size=self.batch_size)\n",
    "        self.log(\"train_mae\", self.train_mae, on_epoch=True, batch_size=self.batch_size)\n",
    "\n",
    "        return loss\n",
    "\n",
    "    def validation_step(self, batch, batch_idx):\n",
    "        bb, raw = batch\n",
    "        y_hat = self(bb)\n",
    "        loss = F.mse_loss(y_hat, bb.y)\n",
    "        \n",
    "        self.val_mae(y_hat, bb.y)\n",
    "        self.log(\"val_loss\", loss, on_epoch=True, batch_size=self.batch_size)\n",
    "        self.log(\"val_mae\", self.val_mae, on_epoch=True, batch_size=self.batch_size)\n",
    "\n",
    "    def configure_optimizers(self):\n",
    "        optimizer = torch.optim.Adam(self.parameters(), lr=self.lr, weight_decay=1e-5)\n",
    "        scheduler = torch.optim.lr_scheduler.ReduceLROnPlateau(optimizer, 'min', patience=10, factor=0.5, verbose=True, min_lr=1e-6, cooldown=5)\n",
    "        return {\n",
    "            'optimizer': optimizer,\n",
    "            'lr_scheduler': {\n",
    "                'scheduler': scheduler,\n",
    "                'monitor': 'val_loss',\n",
    "            }\n",
    "        }"
   ],
   "metadata": {
    "collapsed": false,
    "ExecuteTime": {
     "end_time": "2023-08-27T07:23:43.119365249Z",
     "start_time": "2023-08-27T07:23:43.075130080Z"
    }
   },
   "id": "6edbf99425e0d5c1"
  },
  {
   "cell_type": "code",
   "execution_count": 11,
   "outputs": [
    {
     "name": "stderr",
     "output_type": "stream",
     "text": [
      "GPU available: True (cuda), used: True\n",
      "TPU available: False, using: 0 TPU cores\n",
      "IPU available: False, using: 0 IPUs\n",
      "HPU available: False, using: 0 HPUs\n",
      "LOCAL_RANK: 0 - CUDA_VISIBLE_DEVICES: [0]\n",
      "\n",
      "  | Name      | Type              | Params\n",
      "------------------------------------------------\n",
      "0 | embedding | Embedding         | 5.4 M \n",
      "1 | conv1     | GCNConv           | 32.9 K\n",
      "2 | fc        | Linear            | 33.0 K\n",
      "3 | conv2     | DenseGraphConv    | 65.7 K\n",
      "4 | decode    | Linear            | 129   \n",
      "5 | pool      | AvgPool2d         | 0     \n",
      "6 | train_mae | MeanAbsoluteError | 0     \n",
      "7 | val_mae   | MeanAbsoluteError | 0     \n",
      "------------------------------------------------\n",
      "5.5 M     Trainable params\n",
      "0         Non-trainable params\n",
      "5.5 M     Total params\n",
      "22.031    Total estimated model params size (MB)\n"
     ]
    },
    {
     "data": {
      "text/plain": "Sanity Checking: 0it [00:00, ?it/s]",
      "application/vnd.jupyter.widget-view+json": {
       "version_major": 2,
       "version_minor": 0,
       "model_id": "d1016616b81e4ab4a42c6ca50e504669"
      }
     },
     "metadata": {},
     "output_type": "display_data"
    },
    {
     "data": {
      "text/plain": "Training: 0it [00:00, ?it/s]",
      "application/vnd.jupyter.widget-view+json": {
       "version_major": 2,
       "version_minor": 0,
       "model_id": "7c22ccc583304f38823b903962c8d9cc"
      }
     },
     "metadata": {},
     "output_type": "display_data"
    },
    {
     "data": {
      "text/plain": "Validation: 0it [00:00, ?it/s]",
      "application/vnd.jupyter.widget-view+json": {
       "version_major": 2,
       "version_minor": 0,
       "model_id": "a9cf65b717f546f28ebd95ee42008cfa"
      }
     },
     "metadata": {},
     "output_type": "display_data"
    },
    {
     "data": {
      "text/plain": "Validation: 0it [00:00, ?it/s]",
      "application/vnd.jupyter.widget-view+json": {
       "version_major": 2,
       "version_minor": 0,
       "model_id": "78c9452e2a484abda88b77f9b90b91f9"
      }
     },
     "metadata": {},
     "output_type": "display_data"
    },
    {
     "data": {
      "text/plain": "Validation: 0it [00:00, ?it/s]",
      "application/vnd.jupyter.widget-view+json": {
       "version_major": 2,
       "version_minor": 0,
       "model_id": "ba9105d3fece48c6b334b0d892531989"
      }
     },
     "metadata": {},
     "output_type": "display_data"
    },
    {
     "data": {
      "text/plain": "Validation: 0it [00:00, ?it/s]",
      "application/vnd.jupyter.widget-view+json": {
       "version_major": 2,
       "version_minor": 0,
       "model_id": "3b01cc55aaf640b68a57157c29c2e4a3"
      }
     },
     "metadata": {},
     "output_type": "display_data"
    },
    {
     "data": {
      "text/plain": "Validation: 0it [00:00, ?it/s]",
      "application/vnd.jupyter.widget-view+json": {
       "version_major": 2,
       "version_minor": 0,
       "model_id": "d10af9b45cd54276b852d81522927566"
      }
     },
     "metadata": {},
     "output_type": "display_data"
    },
    {
     "data": {
      "text/plain": "Validation: 0it [00:00, ?it/s]",
      "application/vnd.jupyter.widget-view+json": {
       "version_major": 2,
       "version_minor": 0,
       "model_id": "1aab5546ba924f6687b46ac2c2d959ee"
      }
     },
     "metadata": {},
     "output_type": "display_data"
    },
    {
     "data": {
      "text/plain": "Validation: 0it [00:00, ?it/s]",
      "application/vnd.jupyter.widget-view+json": {
       "version_major": 2,
       "version_minor": 0,
       "model_id": "02401cb955124d89ac36116ce9f2651a"
      }
     },
     "metadata": {},
     "output_type": "display_data"
    },
    {
     "data": {
      "text/plain": "Validation: 0it [00:00, ?it/s]",
      "application/vnd.jupyter.widget-view+json": {
       "version_major": 2,
       "version_minor": 0,
       "model_id": "4e4c3aa494e44722849d6e981cee56a2"
      }
     },
     "metadata": {},
     "output_type": "display_data"
    },
    {
     "data": {
      "text/plain": "Validation: 0it [00:00, ?it/s]",
      "application/vnd.jupyter.widget-view+json": {
       "version_major": 2,
       "version_minor": 0,
       "model_id": "9393bc85b9e0420c8cfa1d28796e8313"
      }
     },
     "metadata": {},
     "output_type": "display_data"
    },
    {
     "data": {
      "text/plain": "Validation: 0it [00:00, ?it/s]",
      "application/vnd.jupyter.widget-view+json": {
       "version_major": 2,
       "version_minor": 0,
       "model_id": "557e3a859af943a28ade87367720fe85"
      }
     },
     "metadata": {},
     "output_type": "display_data"
    },
    {
     "data": {
      "text/plain": "Validation: 0it [00:00, ?it/s]",
      "application/vnd.jupyter.widget-view+json": {
       "version_major": 2,
       "version_minor": 0,
       "model_id": "bd692504a8124efca1c842919c2f5089"
      }
     },
     "metadata": {},
     "output_type": "display_data"
    },
    {
     "data": {
      "text/plain": "Validation: 0it [00:00, ?it/s]",
      "application/vnd.jupyter.widget-view+json": {
       "version_major": 2,
       "version_minor": 0,
       "model_id": "8f3df08af295456caebe178a82a0ce9b"
      }
     },
     "metadata": {},
     "output_type": "display_data"
    },
    {
     "data": {
      "text/plain": "Validation: 0it [00:00, ?it/s]",
      "application/vnd.jupyter.widget-view+json": {
       "version_major": 2,
       "version_minor": 0,
       "model_id": "5bee3e84739846d89ee7c88ae879309a"
      }
     },
     "metadata": {},
     "output_type": "display_data"
    },
    {
     "data": {
      "text/plain": "Validation: 0it [00:00, ?it/s]",
      "application/vnd.jupyter.widget-view+json": {
       "version_major": 2,
       "version_minor": 0,
       "model_id": "14c84469f372462aaa7aee98b6ef9628"
      }
     },
     "metadata": {},
     "output_type": "display_data"
    },
    {
     "data": {
      "text/plain": "Validation: 0it [00:00, ?it/s]",
      "application/vnd.jupyter.widget-view+json": {
       "version_major": 2,
       "version_minor": 0,
       "model_id": "4f11a3d4d5274590ac4515bc1b6979d1"
      }
     },
     "metadata": {},
     "output_type": "display_data"
    },
    {
     "data": {
      "text/plain": "Validation: 0it [00:00, ?it/s]",
      "application/vnd.jupyter.widget-view+json": {
       "version_major": 2,
       "version_minor": 0,
       "model_id": "3522e400be2a410abe5e40d41aaecfd7"
      }
     },
     "metadata": {},
     "output_type": "display_data"
    },
    {
     "data": {
      "text/plain": "Validation: 0it [00:00, ?it/s]",
      "application/vnd.jupyter.widget-view+json": {
       "version_major": 2,
       "version_minor": 0,
       "model_id": "d6a1e450498c4cb0af1105835f4edb62"
      }
     },
     "metadata": {},
     "output_type": "display_data"
    },
    {
     "name": "stderr",
     "output_type": "stream",
     "text": [
      "/home/alex/anaconda3/envs/cpu-uarch-prediction/lib/python3.10/site-packages/pytorch_lightning/trainer/call.py:52: UserWarning: Detected KeyboardInterrupt, attempting graceful shutdown...\n",
      "  rank_zero_warn(\"Detected KeyboardInterrupt, attempting graceful shutdown...\")\n"
     ]
    }
   ],
   "source": [
    "batch_size = 512\n",
    "hidden_size = 256\n",
    "\n",
    "num_training = int(0.7 * len(dataset))\n",
    "num_val = len(dataset) - num_training\n",
    "\n",
    "train_dataset, val_dataset = torch.utils.data.random_split(dataset, [num_training, num_val])\n",
    "train_loader = DataLoader(train_dataset, batch_size=batch_size, shuffle=True, num_workers=6, drop_last=True)\n",
    "val_loader = DataLoader(val_dataset, batch_size=batch_size, shuffle=False, num_workers=6, drop_last=True)\n",
    "\n",
    "model = GNN(21000, hidden_size, batch_size)\n",
    "\n",
    "logger = TensorBoardLogger(\"runs\", name=\"gcn\")\n",
    "logger.log_graph(model)\n",
    "trainer = pl.Trainer(max_epochs=100, logger=logger)\n",
    "trainer.fit(model, train_loader, val_loader)"
   ],
   "metadata": {
    "collapsed": false,
    "ExecuteTime": {
     "end_time": "2023-08-27T07:25:38.612355687Z",
     "start_time": "2023-08-27T07:23:43.993267805Z"
    }
   },
   "id": "f5944c2bd21a8cd8"
  },
  {
   "cell_type": "code",
   "execution_count": null,
   "outputs": [],
   "source": [],
   "metadata": {
    "collapsed": false
   },
   "id": "8e80ee1e33f31242"
  }
 ],
 "metadata": {
  "kernelspec": {
   "display_name": "Python 3",
   "language": "python",
   "name": "python3"
  },
  "language_info": {
   "codemirror_mode": {
    "name": "ipython",
    "version": 2
   },
   "file_extension": ".py",
   "mimetype": "text/x-python",
   "name": "python",
   "nbconvert_exporter": "python",
   "pygments_lexer": "ipython2",
   "version": "2.7.6"
  }
 },
 "nbformat": 4,
 "nbformat_minor": 5
}
