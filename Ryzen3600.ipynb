{
 "cells": [
  {
   "cell_type": "markdown",
   "source": [
    "# Predicting Zen 2 micro-architecture\n",
    "\n",
    "Zen 2 uarch was introduced 2019. The core features 19-stage pipeline with a 4-way decoder.\n",
    "All tests were run on AMD Ryzen 5 3600."
   ],
   "metadata": {
    "collapsed": false
   }
  },
  {
   "cell_type": "code",
   "execution_count": 1,
   "outputs": [],
   "source": [
    "import model.utils\n",
    "import torch\n",
    "import sys\n",
    "from torch_geometric.loader import DataLoader\n",
    "\n",
    "dataset = model.utils.BasicBlockDataset(\"data/x86_64/basic_blocks\", \"data/x86_64/ryzen3600\")\n",
    "loader = DataLoader(dataset, batch_size=32, shuffle=True)\n",
    "\n",
    "input_size = 6 # By the number of features extracted with llvm-mc-embed\n",
    "hidden_size = 128\n",
    "output_size = 12 # It is known that Zen 2 features 12 \"ports\"\n",
    "nhead = 2\n",
    "learning_rate = 0.0001"
   ],
   "metadata": {
    "collapsed": false,
    "ExecuteTime": {
     "start_time": "2023-04-23T17:35:03.666079Z",
     "end_time": "2023-04-23T17:35:12.339303Z"
    }
   }
  },
  {
   "cell_type": "code",
   "execution_count": 2,
   "outputs": [],
   "source": [
    "from model.GraphEncoder import Encoder\n",
    "from model.Decoder import Decoder\n",
    "from model.Transformer import Transformer\n",
    "from model.Predictor import Predictor\n",
    "\n",
    "device = torch.device(\"cuda\" if torch.cuda.is_available() else \"cpu\")\n",
    "\n",
    "encoder = Encoder(input_size, hidden_size, output_size).to(device)\n",
    "decoder = Decoder(input_size, hidden_size, output_size).to(device)\n",
    "transformer = Transformer(input_size, nhead, hidden_size).to(device)\n",
    "agent = Predictor(encoder, transformer, decoder).to(device)"
   ],
   "metadata": {
    "collapsed": false,
    "ExecuteTime": {
     "start_time": "2023-04-23T17:36:02.024525Z",
     "end_time": "2023-04-23T17:36:02.045691Z"
    }
   }
  },
  {
   "cell_type": "code",
   "execution_count": null,
   "outputs": [
    {
     "name": "stderr",
     "output_type": "stream",
     "text": [
      "  0%|          | 0/98050 [00:00<?, ?it/s]/home/alex/Projects/perf-toolbox/cpu-uarch-prediction/model/model.py:22: UserWarning: To copy construct from a tensor, it is recommended to use sourceTensor.clone().detach() or sourceTensor.clone().detach().requires_grad_(True), rather than torch.tensor(sourceTensor).\n",
      "  torch.tensor(measured_cycles, device=total_predicted_cycles.device))\n",
      "/home/alex/Projects/perf-toolbox/cpu-uarch-prediction/model/model.py:21: UserWarning: Using a target size (torch.Size([32])) that is different to the input size (torch.Size([])). This will likely lead to incorrect results due to broadcasting. Please ensure they have the same size.\n",
      "  measured_cycles_term = F.mse_loss(total_predicted_cycles,\n",
      "  2%|▏         | 1845/98050 [03:37<3:25:12,  7.81it/s] "
     ]
    }
   ],
   "source": [
    "from model.model import train\n",
    "\n",
    "checkpoint_dir = \"checkpoints/ryzen3600\"\n",
    "checkpoint_freq = 5\n",
    "num_epochs = 500\n",
    "\n",
    "train(agent, device, loader, num_epochs, learning_rate, checkpoint_dir, checkpoint_freq)"
   ],
   "metadata": {
    "collapsed": false,
    "pycharm": {
     "is_executing": true
    }
   }
  },
  {
   "cell_type": "code",
   "execution_count": null,
   "outputs": [],
   "source": [
    "torch.save(agent, \"trained_models/ryzen3600.pt\")"
   ],
   "metadata": {
    "collapsed": false,
    "pycharm": {
     "is_executing": true
    }
   }
  },
  {
   "cell_type": "code",
   "execution_count": null,
   "outputs": [],
   "source": [
    "choice = dataset[150]\n",
    "bb, m, source = choice\n",
    "\n",
    "input_sequence = bb.x.to(device)\n",
    "edge_index = bb.edge_index.to(device)\n",
    "\n",
    "out, _ = agent(input_sequence, edge_index)\n",
    "res = out.to(\"cpu\").detach().numpy()\n",
    "model.utils.print_port_pressure_table(res, source)\n",
    "print(model.utils.estimate_cycles(out))\n",
    "print(m)"
   ],
   "metadata": {
    "collapsed": false,
    "pycharm": {
     "is_executing": true
    }
   }
  }
 ],
 "metadata": {
  "kernelspec": {
   "display_name": "Python 3 (ipykernel)",
   "language": "python",
   "name": "python3"
  },
  "language_info": {
   "codemirror_mode": {
    "name": "ipython",
    "version": 3
   },
   "file_extension": ".py",
   "mimetype": "text/x-python",
   "name": "python",
   "nbconvert_exporter": "python",
   "pygments_lexer": "ipython3",
   "version": "3.8.16"
  }
 },
 "nbformat": 4,
 "nbformat_minor": 1
}
