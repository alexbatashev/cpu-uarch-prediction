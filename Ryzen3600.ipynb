{
 "cells": [
  {
   "cell_type": "markdown",
   "metadata": {},
   "source": [
    "# Predicting Zen 2 micro-architecture\n",
    "\n",
    "Zen 2 uarch was introduced 2019. The core features 19-stage pipeline with a 4-way decoder."
   ]
  },
  {
   "cell_type": "markdown",
   "source": [
    "Setup hyperparameters for the model"
   ],
   "metadata": {
    "collapsed": false
   }
  },
  {
   "cell_type": "code",
   "execution_count": 1,
   "outputs": [],
   "source": [
    "import os\n",
    "\n",
    "# TODO(Alex) in future revisions of the dataset this value must be embedded into the graph\n",
    "num_opcodes = 21000\n",
    "embedding_size = 128\n",
    "hidden_size = 64\n",
    "batch_size = 4\n",
    "output_size = 12 # It is known that Zen 2 features 12 \"ports\"\n",
    "num_heads = 2\n",
    "\n",
    "learning_rate = 0.001\n",
    "\n",
    "os.environ[\"PYTORCH_CUDA_ALLOC_CONF\"] = \"backend:cudaMallocAsync\""
   ],
   "metadata": {
    "collapsed": false,
    "ExecuteTime": {
     "start_time": "2023-04-30T14:09:43.697106Z",
     "end_time": "2023-04-30T14:09:43.699803Z"
    }
   }
  },
  {
   "cell_type": "markdown",
   "source": [
    "Load the dataset\n",
    "All tests were run on AMD Ryzen 5 3600."
   ],
   "metadata": {
    "collapsed": false
   }
  },
  {
   "cell_type": "code",
   "execution_count": 3,
   "outputs": [],
   "source": [
    "import model.utils\n",
    "import torch\n",
    "from torch_geometric.loader import DataLoader\n",
    "\n",
    "dataset = model.utils.BasicBlockDataset(\"data/x86_64/basic_blocks\", \"data/x86_64/ryzen3600\", num_opcodes)\n",
    "loader = DataLoader(dataset, batch_size=batch_size, shuffle=True)"
   ],
   "metadata": {
    "collapsed": false,
    "ExecuteTime": {
     "start_time": "2023-04-30T14:11:33.327072Z",
     "end_time": "2023-04-30T14:11:39.101319Z"
    }
   }
  },
  {
   "cell_type": "markdown",
   "source": [
    "Setup the model"
   ],
   "metadata": {
    "collapsed": false
   }
  },
  {
   "cell_type": "code",
   "execution_count": 4,
   "metadata": {
    "ExecuteTime": {
     "start_time": "2023-04-30T14:11:47.402072Z",
     "end_time": "2023-04-30T14:11:51.836687Z"
    }
   },
   "outputs": [],
   "source": [
    "from model.GraphEncoder import GATEncoder\n",
    "from model.Predictor import Predictor\n",
    "import torch_geometric\n",
    "\n",
    "device = torch.device(\"cuda\" if torch.cuda.is_available() else \"cpu\")\n",
    "#device = torch.device(\"cpu\")\n",
    "\n",
    "encoder = GATEncoder(num_opcodes, embedding_size, hidden_size, num_opcodes).to(device)\n",
    "model = Predictor(encoder, hidden_size, output_size).to(device)\n",
    "#model = torch_geometric.compile(model)"
   ]
  },
  {
   "cell_type": "markdown",
   "source": [
    "Run training loop"
   ],
   "metadata": {
    "collapsed": false
   }
  },
  {
   "cell_type": "code",
   "execution_count": 5,
   "metadata": {
    "ExecuteTime": {
     "end_time": "2023-04-28T22:21:46.678708Z",
     "start_time": "2023-04-28T21:42:20.222416Z"
    }
   },
   "outputs": [
    {
     "data": {
      "text/plain": "  0%|          | 0/4216000 [00:00<?, ?it/s]",
      "application/vnd.jupyter.widget-view+json": {
       "version_major": 2,
       "version_minor": 0,
       "model_id": "4a8ba720968443d48e8a131ea3dfee0a"
      }
     },
     "metadata": {},
     "output_type": "display_data"
    },
    {
     "ename": "OutOfMemoryError",
     "evalue": "Allocation on device 0 would exceed allowed memory. (out of memory)\nCurrently allocated     : 5.84 GiB\nRequested               : 743.41 MiB\nDevice limit            : 7.79 GiB\nFree (according to CUDA): 15.62 MiB\nPyTorch limit (set by user-supplied memory fraction)\n                        : 17179869184.00 GiB",
     "output_type": "error",
     "traceback": [
      "\u001B[0;31m---------------------------------------------------------------------------\u001B[0m",
      "\u001B[0;31mOutOfMemoryError\u001B[0m                          Traceback (most recent call last)",
      "Cell \u001B[0;32mIn[5], line 10\u001B[0m\n\u001B[1;32m      7\u001B[0m \u001B[38;5;28;01mif\u001B[39;00m torch\u001B[38;5;241m.\u001B[39mcuda\u001B[38;5;241m.\u001B[39mis_available():\n\u001B[1;32m      8\u001B[0m     torch\u001B[38;5;241m.\u001B[39mcuda\u001B[38;5;241m.\u001B[39mempty_cache()\n\u001B[0;32m---> 10\u001B[0m \u001B[43mtrain\u001B[49m\u001B[43m(\u001B[49m\u001B[43mmodel\u001B[49m\u001B[43m,\u001B[49m\u001B[43m \u001B[49m\u001B[43mdevice\u001B[49m\u001B[43m,\u001B[49m\u001B[43m \u001B[49m\u001B[43mloader\u001B[49m\u001B[43m,\u001B[49m\u001B[43m \u001B[49m\u001B[43mnum_epochs\u001B[49m\u001B[43m,\u001B[49m\u001B[43m \u001B[49m\u001B[43mbatch_size\u001B[49m\u001B[43m,\u001B[49m\u001B[43m \u001B[49m\u001B[43mlearning_rate\u001B[49m\u001B[43m,\u001B[49m\u001B[43m \u001B[49m\u001B[43mcheckpoint_dir\u001B[49m\u001B[43m,\u001B[49m\u001B[43m \u001B[49m\u001B[43mcheckpoint_freq\u001B[49m\u001B[43m)\u001B[49m\n",
      "File \u001B[0;32m~/Projects/perf-toolbox/cpu-uarch-prediction/model/model.py:68\u001B[0m, in \u001B[0;36mtrain\u001B[0;34m(predictor, device, loader, num_epochs, batch_size, learning_rate, checkpoint_dir, checkpoint_freq)\u001B[0m\n\u001B[1;32m     65\u001B[0m all_losses\u001B[38;5;241m.\u001B[39mappend(loss\u001B[38;5;241m.\u001B[39mitem())\n\u001B[1;32m     67\u001B[0m step \u001B[38;5;241m+\u001B[39m\u001B[38;5;241m=\u001B[39m \u001B[38;5;241m1\u001B[39m\n\u001B[0;32m---> 68\u001B[0m \u001B[43mloss\u001B[49m\u001B[38;5;241;43m.\u001B[39;49m\u001B[43mbackward\u001B[49m\u001B[43m(\u001B[49m\u001B[43m)\u001B[49m\n\u001B[1;32m     69\u001B[0m optimizer\u001B[38;5;241m.\u001B[39mstep()\n\u001B[1;32m     71\u001B[0m \u001B[38;5;28;01mif\u001B[39;00m (i \u001B[38;5;241m+\u001B[39m \u001B[38;5;241m1\u001B[39m) \u001B[38;5;241m%\u001B[39m checkpoint_freq \u001B[38;5;241m==\u001B[39m \u001B[38;5;241m0\u001B[39m:\n",
      "File \u001B[0;32m~/.conda/envs/hmm_exploration/lib/python3.10/site-packages/torch/_tensor.py:487\u001B[0m, in \u001B[0;36mTensor.backward\u001B[0;34m(self, gradient, retain_graph, create_graph, inputs)\u001B[0m\n\u001B[1;32m    477\u001B[0m \u001B[38;5;28;01mif\u001B[39;00m has_torch_function_unary(\u001B[38;5;28mself\u001B[39m):\n\u001B[1;32m    478\u001B[0m     \u001B[38;5;28;01mreturn\u001B[39;00m handle_torch_function(\n\u001B[1;32m    479\u001B[0m         Tensor\u001B[38;5;241m.\u001B[39mbackward,\n\u001B[1;32m    480\u001B[0m         (\u001B[38;5;28mself\u001B[39m,),\n\u001B[0;32m   (...)\u001B[0m\n\u001B[1;32m    485\u001B[0m         inputs\u001B[38;5;241m=\u001B[39minputs,\n\u001B[1;32m    486\u001B[0m     )\n\u001B[0;32m--> 487\u001B[0m \u001B[43mtorch\u001B[49m\u001B[38;5;241;43m.\u001B[39;49m\u001B[43mautograd\u001B[49m\u001B[38;5;241;43m.\u001B[39;49m\u001B[43mbackward\u001B[49m\u001B[43m(\u001B[49m\n\u001B[1;32m    488\u001B[0m \u001B[43m    \u001B[49m\u001B[38;5;28;43mself\u001B[39;49m\u001B[43m,\u001B[49m\u001B[43m \u001B[49m\u001B[43mgradient\u001B[49m\u001B[43m,\u001B[49m\u001B[43m \u001B[49m\u001B[43mretain_graph\u001B[49m\u001B[43m,\u001B[49m\u001B[43m \u001B[49m\u001B[43mcreate_graph\u001B[49m\u001B[43m,\u001B[49m\u001B[43m \u001B[49m\u001B[43minputs\u001B[49m\u001B[38;5;241;43m=\u001B[39;49m\u001B[43minputs\u001B[49m\n\u001B[1;32m    489\u001B[0m \u001B[43m\u001B[49m\u001B[43m)\u001B[49m\n",
      "File \u001B[0;32m~/.conda/envs/hmm_exploration/lib/python3.10/site-packages/torch/autograd/__init__.py:200\u001B[0m, in \u001B[0;36mbackward\u001B[0;34m(tensors, grad_tensors, retain_graph, create_graph, grad_variables, inputs)\u001B[0m\n\u001B[1;32m    195\u001B[0m     retain_graph \u001B[38;5;241m=\u001B[39m create_graph\n\u001B[1;32m    197\u001B[0m \u001B[38;5;66;03m# The reason we repeat same the comment below is that\u001B[39;00m\n\u001B[1;32m    198\u001B[0m \u001B[38;5;66;03m# some Python versions print out the first line of a multi-line function\u001B[39;00m\n\u001B[1;32m    199\u001B[0m \u001B[38;5;66;03m# calls in the traceback and some print out the last line\u001B[39;00m\n\u001B[0;32m--> 200\u001B[0m \u001B[43mVariable\u001B[49m\u001B[38;5;241;43m.\u001B[39;49m\u001B[43m_execution_engine\u001B[49m\u001B[38;5;241;43m.\u001B[39;49m\u001B[43mrun_backward\u001B[49m\u001B[43m(\u001B[49m\u001B[43m  \u001B[49m\u001B[38;5;66;43;03m# Calls into the C++ engine to run the backward pass\u001B[39;49;00m\n\u001B[1;32m    201\u001B[0m \u001B[43m    \u001B[49m\u001B[43mtensors\u001B[49m\u001B[43m,\u001B[49m\u001B[43m \u001B[49m\u001B[43mgrad_tensors_\u001B[49m\u001B[43m,\u001B[49m\u001B[43m \u001B[49m\u001B[43mretain_graph\u001B[49m\u001B[43m,\u001B[49m\u001B[43m \u001B[49m\u001B[43mcreate_graph\u001B[49m\u001B[43m,\u001B[49m\u001B[43m \u001B[49m\u001B[43minputs\u001B[49m\u001B[43m,\u001B[49m\n\u001B[1;32m    202\u001B[0m \u001B[43m    \u001B[49m\u001B[43mallow_unreachable\u001B[49m\u001B[38;5;241;43m=\u001B[39;49m\u001B[38;5;28;43;01mTrue\u001B[39;49;00m\u001B[43m,\u001B[49m\u001B[43m \u001B[49m\u001B[43maccumulate_grad\u001B[49m\u001B[38;5;241;43m=\u001B[39;49m\u001B[38;5;28;43;01mTrue\u001B[39;49;00m\u001B[43m)\u001B[49m\n",
      "\u001B[0;31mOutOfMemoryError\u001B[0m: Allocation on device 0 would exceed allowed memory. (out of memory)\nCurrently allocated     : 5.84 GiB\nRequested               : 743.41 MiB\nDevice limit            : 7.79 GiB\nFree (according to CUDA): 15.62 MiB\nPyTorch limit (set by user-supplied memory fraction)\n                        : 17179869184.00 GiB"
     ]
    }
   ],
   "source": [
    "from model.model import train\n",
    "\n",
    "checkpoint_dir = \"checkpoints/ryzen3600\"\n",
    "checkpoint_freq = 100\n",
    "num_epochs = 2000\n",
    "\n",
    "if torch.cuda.is_available():\n",
    "    torch.cuda.empty_cache()\n",
    "\n",
    "train(model, device, loader, num_epochs, batch_size, learning_rate, checkpoint_dir, checkpoint_freq)"
   ]
  },
  {
   "cell_type": "markdown",
   "source": [
    "Save trained model into a file"
   ],
   "metadata": {
    "collapsed": false
   }
  },
  {
   "cell_type": "code",
   "execution_count": 4,
   "metadata": {
    "ExecuteTime": {
     "end_time": "2023-04-23T21:14:49.928405Z",
     "start_time": "2023-04-23T21:14:49.925736Z"
    }
   },
   "outputs": [],
   "source": [
    "torch.save(model, \"trained_models/ryzen3600.pt\")"
   ]
  },
  {
   "cell_type": "markdown",
   "source": [
    "Model showcase"
   ],
   "metadata": {
    "collapsed": false
   }
  },
  {
   "cell_type": "code",
   "execution_count": 4,
   "metadata": {
    "ExecuteTime": {
     "end_time": "2023-04-30T11:17:11.053018Z",
     "start_time": "2023-04-30T11:17:11.040657Z"
    }
   },
   "outputs": [
    {
     "name": "stdout",
     "output_type": "stream",
     "text": [
      "tensor([[0., 0., 0.,  ..., 0., 0., 0.],\n",
      "        [0., 0., 0.,  ..., 0., 0., 0.]])\n",
      "Port  |    0   |    1   |    2   |    3   |    4   |    5   |    6   |    7   |    8   |    9   |   10   |   11   |\n",
      "------------------------------------------------------------------------------------------------------\n",
      "       | 0.00   | 0.00   | 2185678.00| 37210996.00| 1750582.88| 0.00   | 0.00   | 2526091.00| 2403171.00| 1974601.50| 1898305.50| 1627569.50| nopl\t(%rax)\n",
      "       | 0.00   | 0.00   | 771668.12| 13137992.00| 618063.88| 0.00   | 0.00   | 891871.06| 848464.25| 697149.81| 670211.81| 574634.38| testq\t%r15, %r15\n",
      "50348988.0\n",
      "0.144\n"
     ]
    }
   ],
   "source": [
    "choice = dataset[140]\n",
    "bb, m, raw = choice\n",
    "\n",
    "print(bb.x)\n",
    "\n",
    "input_sequence = bb.x.to(device)\n",
    "edge_index = bb.edge_index.to(device)\n",
    "\n",
    "out, _ = model(input_sequence, edge_index)\n",
    "res = out.to(\"cpu\").detach().numpy()\n",
    "model.utils.print_port_pressure_table(res, raw[\"source\"])\n",
    "print(model.utils.estimate_cycles(out))\n",
    "print(m)"
   ]
  }
 ],
 "metadata": {
  "kernelspec": {
   "display_name": "Python 3 (ipykernel)",
   "language": "python",
   "name": "python3"
  },
  "language_info": {
   "codemirror_mode": {
    "name": "ipython",
    "version": 3
   },
   "file_extension": ".py",
   "mimetype": "text/x-python",
   "name": "python",
   "nbconvert_exporter": "python",
   "pygments_lexer": "ipython3",
   "version": "3.10.9"
  }
 },
 "nbformat": 4,
 "nbformat_minor": 1
}
