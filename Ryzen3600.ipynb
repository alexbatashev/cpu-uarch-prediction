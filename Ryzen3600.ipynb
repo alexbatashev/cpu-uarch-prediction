{
 "cells": [
  {
   "cell_type": "markdown",
   "source": [
    "# Predicting Zen 2 micro-architecture\n",
    "\n",
    "Zen 2 uarch was introduced 2019. The core features 19-stage pipeline with a 4-way decoder.\n",
    "All tests were run on AMD Ryzen 5 3600."
   ],
   "metadata": {
    "collapsed": false
   }
  },
  {
   "cell_type": "code",
   "execution_count": 1,
   "outputs": [],
   "source": [
    "import random\n",
    "\n",
    "import model.utils\n",
    "import torch\n",
    "import sys\n",
    "from torch_geometric.loader import DataLoader\n",
    "\n",
    "dataset = model.utils.BasicBlockDataset(\"data/x86_64/basic_blocks\", \"data/x86_64/ryzen3600\")\n",
    "loader = DataLoader(dataset, batch_size=32, shuffle=True)\n",
    "\n",
    "input_size = 6 # By the number of features extracted with llvm-mc-embed\n",
    "hidden_size = 128\n",
    "output_size = 12 # It is known that Zen 2 features 12 \"ports\"\n",
    "nhead = 2\n",
    "learning_rate = 0.0001"
   ],
   "metadata": {
    "collapsed": false,
    "ExecuteTime": {
     "start_time": "2023-04-28T20:48:04.949048Z",
     "end_time": "2023-04-28T20:48:14.647467Z"
    }
   }
  },
  {
   "cell_type": "code",
   "execution_count": 2,
   "outputs": [],
   "source": [
    "from model.GraphEncoder import Encoder\n",
    "from model.Decoder import Decoder\n",
    "from model.Transformer import Transformer\n",
    "from model.Predictor import Predictor\n",
    "\n",
    "device = torch.device(\"cuda\" if torch.cuda.is_available() else \"cpu\")\n",
    "\n",
    "encoder = Encoder(input_size, hidden_size, output_size).to(device)\n",
    "decoder = Decoder(input_size, hidden_size, output_size).to(device)\n",
    "transformer = Transformer(input_size, nhead, hidden_size).to(device)\n",
    "agent = Predictor(encoder, transformer, decoder).to(device)\n",
    "#agent = torch.compile(agent)"
   ],
   "metadata": {
    "collapsed": false,
    "ExecuteTime": {
     "start_time": "2023-04-28T20:49:00.030771Z",
     "end_time": "2023-04-28T20:49:00.054032Z"
    }
   }
  },
  {
   "cell_type": "code",
   "execution_count": 4,
   "outputs": [
    {
     "name": "stderr",
     "output_type": "stream",
     "text": [
      "100%|██████████| 26500/26500 [04:43<00:00, 93.39it/s] \n"
     ]
    }
   ],
   "source": [
    "from model.model import train\n",
    "\n",
    "checkpoint_dir = \"checkpoints/ryzen3600\"\n",
    "checkpoint_freq = 5\n",
    "num_epochs = 100\n",
    "\n",
    "train(agent, device, loader, num_epochs, learning_rate, checkpoint_dir, checkpoint_freq)"
   ],
   "metadata": {
    "collapsed": false,
    "ExecuteTime": {
     "start_time": "2023-04-28T20:49:20.536280Z",
     "end_time": "2023-04-28T20:54:04.310050Z"
    }
   }
  },
  {
   "cell_type": "code",
   "execution_count": null,
   "outputs": [],
   "source": [
    "torch.save(agent, \"trained_models/ryzen3600.pt\")"
   ],
   "metadata": {
    "collapsed": false,
    "ExecuteTime": {
     "start_time": "2023-04-23T21:14:49.925736Z",
     "end_time": "2023-04-23T21:14:49.928405Z"
    }
   }
  },
  {
   "cell_type": "code",
   "execution_count": 5,
   "outputs": [
    {
     "name": "stdout",
     "output_type": "stream",
     "text": [
      "Port  |    0   |    1   |    2   |    3   |    4   |    5   |    6   |    7   |    8   |    9   |   10   |   11   |\n",
      "------------------------------------------------------------------------------------------------------\n",
      "       | 3006.65| 0.00   | 2308.85| 1525.48| 0.00   | 3622.38| 12079.87| 1876.39| 3139.97| 2580.39| 2129.69| 2008.38| testq\t%rax, %rax\n",
      "12079.873046875\n",
      "7.956\n"
     ]
    }
   ],
   "source": [
    "choice = dataset[150]\n",
    "bb, m, raw = choice\n",
    "\n",
    "input_sequence = bb.x.to(device)\n",
    "edge_index = bb.edge_index.to(device)\n",
    "\n",
    "out, _ = agent(input_sequence, edge_index)\n",
    "res = out.to(\"cpu\").detach().numpy()\n",
    "model.utils.print_port_pressure_table(res, raw[\"source\"])\n",
    "print(model.utils.estimate_cycles(out))\n",
    "print(m)"
   ],
   "metadata": {
    "collapsed": false,
    "ExecuteTime": {
     "start_time": "2023-04-28T20:54:22.146880Z",
     "end_time": "2023-04-28T20:54:22.152394Z"
    }
   }
  },
  {
   "cell_type": "code",
   "execution_count": null,
   "outputs": [],
   "source": [],
   "metadata": {
    "collapsed": false
   }
  }
 ],
 "metadata": {
  "kernelspec": {
   "display_name": "Python 3 (ipykernel)",
   "language": "python",
   "name": "python3"
  },
  "language_info": {
   "codemirror_mode": {
    "name": "ipython",
    "version": 3
   },
   "file_extension": ".py",
   "mimetype": "text/x-python",
   "name": "python",
   "nbconvert_exporter": "python",
   "pygments_lexer": "ipython3",
   "version": "3.8.16"
  }
 },
 "nbformat": 4,
 "nbformat_minor": 1
}
